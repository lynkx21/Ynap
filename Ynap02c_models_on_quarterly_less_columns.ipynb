{
 "cells": [
  {
   "cell_type": "code",
   "execution_count": 1,
   "metadata": {
    "collapsed": true
   },
   "outputs": [],
   "source": [
    "import os\n",
    "import re\n",
    "import numpy as np\n",
    "import pandas as pd\n",
    "import matplotlib.pyplot as plt\n",
    "import seaborn as sns\n",
    "%matplotlib inline\n",
    "\n",
    "from sklearn.model_selection import train_test_split, KFold, GridSearchCV\n",
    "from sklearn.preprocessing import MinMaxScaler, Normalizer, StandardScaler\n",
    "from sklearn.linear_model import LinearRegression, LogisticRegression\n",
    "from sklearn.tree import DecisionTreeClassifier\n",
    "from sklearn.neural_network import MLPClassifier\n",
    "from sklearn.ensemble import AdaBoostClassifier, BaggingClassifier, ExtraTreesClassifier\n",
    "from sklearn.ensemble import GradientBoostingClassifier, RandomForestClassifier, VotingClassifier\n",
    "from sklearn.svm import SVC\n",
    "from sklearn.metrics import accuracy_score, classification_report, roc_curve\n",
    "from sklearn.metrics import make_scorer, confusion_matrix\n",
    "import xgboost as xgb"
   ]
  },
  {
   "cell_type": "code",
   "execution_count": 2,
   "metadata": {},
   "outputs": [
    {
     "name": "stdout",
     "output_type": "stream",
     "text": [
      "/nfs/science/shared/ipythonNotebooks/leom/Kaggle/Ynap-master/ynap_data\n"
     ]
    }
   ],
   "source": [
    "data_path = os.path.join(os.getcwd(), 'ynap_data')\n",
    "print(data_path)"
   ]
  },
  {
   "cell_type": "code",
   "execution_count": 3,
   "metadata": {},
   "outputs": [],
   "source": [
    "# print(os.listdir(data_path))"
   ]
  },
  {
   "cell_type": "code",
   "execution_count": 4,
   "metadata": {
    "collapsed": true
   },
   "outputs": [],
   "source": [
    "df_tot = pd.read_csv(os.path.join(data_path, 'df_quarterly_log.csv'))\n",
    "df_tot['var3'] = df_tot['var3'].astype('category')\n",
    "df_tot['var5'] = df_tot['var5'].astype('category')\n",
    "df_tot['var6'] = df_tot['var6'].astype('category')\n",
    "\n",
    "# make dummies out of categorical variables\n",
    "dummy_idx = np.where(df_tot.dtypes == 'category')[0]\n",
    "df_dummies = pd.get_dummies(df_tot.iloc[:, dummy_idx])\n",
    "df = pd.concat([df_tot.drop(df_tot.iloc[:, dummy_idx].columns.values, axis=1), df_dummies], axis=1)"
   ]
  },
  {
   "cell_type": "code",
   "execution_count": 5,
   "metadata": {},
   "outputs": [
    {
     "name": "stdout",
     "output_type": "stream",
     "text": [
      "<class 'pandas.core.frame.DataFrame'>\n",
      "RangeIndex: 15695 entries, 0 to 15694\n",
      "Columns: 113 entries, customer_id to var6_1.0\n",
      "dtypes: float64(103), int64(2), uint8(8)\n",
      "memory usage: 12.7 MB\n"
     ]
    }
   ],
   "source": [
    "df.info()"
   ]
  },
  {
   "cell_type": "markdown",
   "metadata": {},
   "source": [
    "Following the indications of the exploratory let's drop the variables we saw are highly correlated between each other.\n",
    "Also let's keep only the last 6 months of data: it's more likely that this is the period where a customer could potentially become a lapser."
   ]
  },
  {
   "cell_type": "code",
   "execution_count": 6,
   "metadata": {
    "collapsed": true
   },
   "outputs": [],
   "source": [
    "def column_finder(df, col, method=2):\n",
    "    if method == 1:\n",
    "        # method 1:\n",
    "        cols_as_string = ' '.join(df.columns.values)\n",
    "        cols_found = list(re.findall(col + '.*?\\ ', cols_as_string))\n",
    "        cols_found = [x.strip(' ') for x in cols_found]\n",
    "    elif method == 2:\n",
    "        # method 2:\n",
    "        cols_found = []\n",
    "        for col_elem in df.columns.values:\n",
    "            if col in col_elem:\n",
    "                cols_found.append(col_elem)\n",
    "    else:\n",
    "        raise ValueError\n",
    "            \n",
    "    return cols_found\n",
    "\n",
    "\n",
    "def column_remover(df, col_list, noprint=False):    \n",
    "    if type(col_list) != list:\n",
    "        cl = []\n",
    "        cl.append(col_list)\n",
    "        col_list =cl\n",
    "    \n",
    "    col_to_remove = []\n",
    "    for col in col_list:\n",
    "        #print(col)\n",
    "        col_to_remove.extend(column_finder(df, col, method=2))\n",
    "    \n",
    "    df.drop(col_to_remove, axis=1, inplace=True)\n",
    "    if not noprint:\n",
    "        print(col_to_remove)"
   ]
  },
  {
   "cell_type": "code",
   "execution_count": 8,
   "metadata": {},
   "outputs": [],
   "source": [
    "column_remover(df, ['product_id', 'designer_id', 'gross_spend', 'item_bought', 'item_returned',\n",
    "                        'ns_per_order', 'ir_per_order', 'gs_per_item', '_1989', '_199001', '_199002'\n",
    "                       ], noprint=True)\n",
    "# print(df_tot.columns.values)"
   ]
  },
  {
   "cell_type": "markdown",
   "metadata": {},
   "source": [
    "## Balance\n",
    "My objective is to get the highest recall possibile. The overall accuracy doesn't fit for this problem, because classifying the right 1s has more importance than classifying everyone correctly, whether they are 0s or 1s.\n",
    "The recall measure is perfect for this problem. I want to have the highest percentage possible on classifying the customers I know are true 1s (in other words, I want to minimize the outcome set to 0 to those I know are 1), while I consider less important to have an error on those I classify 1 when they are actually 0.\n",
    "\n",
    "Let's try different proportions of data between for not lapsed customers and lapsed customers."
   ]
  },
  {
   "cell_type": "code",
   "execution_count": 9,
   "metadata": {
    "collapsed": true
   },
   "outputs": [],
   "source": [
    "df_for_model = df"
   ]
  },
  {
   "cell_type": "code",
   "execution_count": 10,
   "metadata": {},
   "outputs": [
    {
     "name": "stdout",
     "output_type": "stream",
     "text": [
      "(15695, 27)\n",
      "(15695, 2)\n"
     ]
    }
   ],
   "source": [
    "X = df_for_model.drop(['customer_id', 'lapsed_next_period'], axis=1)\n",
    "y = df_for_model[['customer_id', 'lapsed_next_period']]\n",
    "\n",
    "print(X.shape)\n",
    "print(y.shape)\n",
    "\n",
    "X_train, X_test, y_train, y_test = train_test_split(X, y, test_size=0.2, random_state=21)"
   ]
  },
  {
   "cell_type": "code",
   "execution_count": 11,
   "metadata": {},
   "outputs": [
    {
     "name": "stdout",
     "output_type": "stream",
     "text": [
      "(657, 27)\n",
      "(11899, 27)\n",
      "0.05232558139534884\n"
     ]
    }
   ],
   "source": [
    "X_train_1 = X_train.loc[y_train[y_train['lapsed_next_period'] == 1].index]\n",
    "X_train_0 = X_train.loc[y_train[y_train['lapsed_next_period'] == 0].index]\n",
    "\n",
    "print(X_train_1.shape)\n",
    "print(X_train_0.shape)\n",
    "print(X_train_1.shape[0]/X_train.shape[0])"
   ]
  },
  {
   "cell_type": "code",
   "execution_count": 12,
   "metadata": {},
   "outputs": [
    {
     "data": {
      "text/plain": [
       "0.052245938196877985"
      ]
     },
     "execution_count": 12,
     "metadata": {},
     "output_type": "execute_result"
    }
   ],
   "source": [
    "y_test[y_test['lapsed_next_period'] == 1].shape[0] / y_test.shape[0]"
   ]
  },
  {
   "cell_type": "code",
   "execution_count": 13,
   "metadata": {
    "collapsed": true
   },
   "outputs": [],
   "source": [
    "# try different balance ratios with a couple of easy models\n",
    "def balance_tester(Xtr0, Xtr1, ytr, Xte, yte, zero_quotas = [0.5, 0.66, 0.75], seeds = [21, 2121, 1212], \n",
    "                   method='log', method_params=None):\n",
    "    \n",
    "    if (method == 'rf') & (method_params == None):\n",
    "        # Random Forest parameters\n",
    "        rf_params_bal = {'n_jobs': -1, 'n_estimators': 500, 'warm_start': True, \n",
    "                         'max_depth': 4, 'min_samples_leaf': 2, 'max_features' : 'sqrt',\n",
    "                         'verbose': 0}\n",
    "    \n",
    "    results = pd.DataFrame(columns=['quota', 'accuracy', 'pred_perc', 'recall'])\n",
    "    \n",
    "    for quota in zero_quotas:\n",
    "        accuracy = []\n",
    "        pred_perc = []\n",
    "        recall = []\n",
    "        \n",
    "        n_sample = int(Xtr1.shape[0] * quota / (1 - quota) // 1)\n",
    "        \n",
    "        for seed in seeds:\n",
    "            Xtr0_ = Xtr0.sample(n=n_sample, random_state=seed)\n",
    "            Xtr_ = Xtr0_.append(Xtr1)\n",
    "            ytr_ = ytr.loc[Xtr_.index]\n",
    "            \n",
    "            if method == 'log':\n",
    "                clf = LogisticRegression(max_iter=100, solver='liblinear')\n",
    "            elif method == 'rf':\n",
    "                clf = RandomForestClassifier(**rf_params_bal)\n",
    "            else:\n",
    "                return 'Method not recognized'\n",
    "            \n",
    "            clf.fit(Xtr_, ytr_)\n",
    "            clf_pred = clf.predict(Xte)\n",
    "            cf = confusion_matrix(yte, clf_pred)\n",
    "            \n",
    "            pred_perc.append(clf_pred.sum()/len(clf_pred))\n",
    "            accuracy.append(accuracy_score(yte, clf_pred))\n",
    "            recall.append(cf[1, 1] / cf[1, :].sum())\n",
    "            \n",
    "            \n",
    "        # print(np.array(accuracy).mean())\n",
    "        acc_mean = np.array(accuracy).mean()\n",
    "        pp_mean = np.array(pred_perc).mean()\n",
    "        rec_mean = np.array(recall).mean()\n",
    "        \n",
    "        results = results.append(pd.Series({'quota': quota, 'accuracy': acc_mean,\n",
    "                                            'pred_perc': pp_mean, 'recall': rec_mean}),\n",
    "                                 ignore_index=True)\n",
    "    \n",
    "    return results\n",
    "            \n",
    "quotas = [0.5, 0.55, 0.6, 0.65, 0.7, 0.75, 0.8, 0.825, 0.85, 0.9]\n",
    "# quotas = [0.8, 0.805, 0.81, 0.815, 0.82, 0.825, 0.83, 0.835, 0.84, 0.845, 0.85]\n",
    "balance_res_rf = balance_tester(X_train_0, X_train_1, y_train['lapsed_next_period'], X_test, \n",
    "                                y_test['lapsed_next_period'], quotas, method='rf')\n",
    "\n",
    "balance_res_log = balance_tester(X_train_0, X_train_1, y_train['lapsed_next_period'], X_test, \n",
    "                                y_test['lapsed_next_period'], quotas, method='log')"
   ]
  },
  {
   "cell_type": "code",
   "execution_count": 14,
   "metadata": {},
   "outputs": [
    {
     "data": {
      "text/html": [
       "<div>\n",
       "<style>\n",
       "    .dataframe thead tr:only-child th {\n",
       "        text-align: right;\n",
       "    }\n",
       "\n",
       "    .dataframe thead th {\n",
       "        text-align: left;\n",
       "    }\n",
       "\n",
       "    .dataframe tbody tr th {\n",
       "        vertical-align: top;\n",
       "    }\n",
       "</style>\n",
       "<table border=\"1\" class=\"dataframe\">\n",
       "  <thead>\n",
       "    <tr style=\"text-align: right;\">\n",
       "      <th></th>\n",
       "      <th>quota</th>\n",
       "      <th>accuracy</th>\n",
       "      <th>pred_perc</th>\n",
       "      <th>recall</th>\n",
       "      <th>acc_recall</th>\n",
       "    </tr>\n",
       "  </thead>\n",
       "  <tbody>\n",
       "    <tr>\n",
       "      <th>0</th>\n",
       "      <td>0.500</td>\n",
       "      <td>0.735691</td>\n",
       "      <td>0.297866</td>\n",
       "      <td>0.821138</td>\n",
       "      <td>0.786959</td>\n",
       "    </tr>\n",
       "    <tr>\n",
       "      <th>1</th>\n",
       "      <td>0.550</td>\n",
       "      <td>0.762345</td>\n",
       "      <td>0.266752</td>\n",
       "      <td>0.778455</td>\n",
       "      <td>0.772011</td>\n",
       "    </tr>\n",
       "    <tr>\n",
       "      <th>2</th>\n",
       "      <td>0.600</td>\n",
       "      <td>0.781671</td>\n",
       "      <td>0.240629</td>\n",
       "      <td>0.713415</td>\n",
       "      <td>0.740717</td>\n",
       "    </tr>\n",
       "    <tr>\n",
       "      <th>3</th>\n",
       "      <td>0.650</td>\n",
       "      <td>0.804502</td>\n",
       "      <td>0.210152</td>\n",
       "      <td>0.640244</td>\n",
       "      <td>0.705947</td>\n",
       "    </tr>\n",
       "    <tr>\n",
       "      <th>4</th>\n",
       "      <td>0.700</td>\n",
       "      <td>0.831156</td>\n",
       "      <td>0.176702</td>\n",
       "      <td>0.575203</td>\n",
       "      <td>0.677585</td>\n",
       "    </tr>\n",
       "    <tr>\n",
       "      <th>5</th>\n",
       "      <td>0.750</td>\n",
       "      <td>0.861739</td>\n",
       "      <td>0.133376</td>\n",
       "      <td>0.453252</td>\n",
       "      <td>0.616647</td>\n",
       "    </tr>\n",
       "    <tr>\n",
       "      <th>6</th>\n",
       "      <td>0.800</td>\n",
       "      <td>0.890836</td>\n",
       "      <td>0.092386</td>\n",
       "      <td>0.339431</td>\n",
       "      <td>0.559993</td>\n",
       "    </tr>\n",
       "    <tr>\n",
       "      <th>7</th>\n",
       "      <td>0.825</td>\n",
       "      <td>0.903791</td>\n",
       "      <td>0.073059</td>\n",
       "      <td>0.278455</td>\n",
       "      <td>0.528590</td>\n",
       "    </tr>\n",
       "    <tr>\n",
       "      <th>8</th>\n",
       "      <td>0.850</td>\n",
       "      <td>0.913773</td>\n",
       "      <td>0.055007</td>\n",
       "      <td>0.201220</td>\n",
       "      <td>0.486241</td>\n",
       "    </tr>\n",
       "    <tr>\n",
       "      <th>9</th>\n",
       "      <td>0.900</td>\n",
       "      <td>0.947542</td>\n",
       "      <td>0.000212</td>\n",
       "      <td>0.000000</td>\n",
       "      <td>0.379017</td>\n",
       "    </tr>\n",
       "  </tbody>\n",
       "</table>\n",
       "</div>"
      ],
      "text/plain": [
       "   quota  accuracy  pred_perc    recall  acc_recall\n",
       "0  0.500  0.735691   0.297866  0.821138    0.786959\n",
       "1  0.550  0.762345   0.266752  0.778455    0.772011\n",
       "2  0.600  0.781671   0.240629  0.713415    0.740717\n",
       "3  0.650  0.804502   0.210152  0.640244    0.705947\n",
       "4  0.700  0.831156   0.176702  0.575203    0.677585\n",
       "5  0.750  0.861739   0.133376  0.453252    0.616647\n",
       "6  0.800  0.890836   0.092386  0.339431    0.559993\n",
       "7  0.825  0.903791   0.073059  0.278455    0.528590\n",
       "8  0.850  0.913773   0.055007  0.201220    0.486241\n",
       "9  0.900  0.947542   0.000212  0.000000    0.379017"
      ]
     },
     "execution_count": 14,
     "metadata": {},
     "output_type": "execute_result"
    }
   ],
   "source": [
    "balance_res_log['acc_recall'] = 0.4 * balance_res_log['accuracy'] + 0.6 * balance_res_log['recall']\n",
    "balance_res_log"
   ]
  },
  {
   "cell_type": "code",
   "execution_count": 15,
   "metadata": {
    "scrolled": true
   },
   "outputs": [
    {
     "data": {
      "text/html": [
       "<div>\n",
       "<style>\n",
       "    .dataframe thead tr:only-child th {\n",
       "        text-align: right;\n",
       "    }\n",
       "\n",
       "    .dataframe thead th {\n",
       "        text-align: left;\n",
       "    }\n",
       "\n",
       "    .dataframe tbody tr th {\n",
       "        vertical-align: top;\n",
       "    }\n",
       "</style>\n",
       "<table border=\"1\" class=\"dataframe\">\n",
       "  <thead>\n",
       "    <tr style=\"text-align: right;\">\n",
       "      <th></th>\n",
       "      <th>quota</th>\n",
       "      <th>accuracy</th>\n",
       "      <th>pred_perc</th>\n",
       "      <th>recall</th>\n",
       "      <th>acc_recall</th>\n",
       "    </tr>\n",
       "  </thead>\n",
       "  <tbody>\n",
       "    <tr>\n",
       "      <th>0</th>\n",
       "      <td>0.500</td>\n",
       "      <td>0.748965</td>\n",
       "      <td>0.280132</td>\n",
       "      <td>0.778455</td>\n",
       "      <td>0.766659</td>\n",
       "    </tr>\n",
       "    <tr>\n",
       "      <th>1</th>\n",
       "      <td>0.550</td>\n",
       "      <td>0.769035</td>\n",
       "      <td>0.257513</td>\n",
       "      <td>0.754065</td>\n",
       "      <td>0.760053</td>\n",
       "    </tr>\n",
       "    <tr>\n",
       "      <th>2</th>\n",
       "      <td>0.600</td>\n",
       "      <td>0.791335</td>\n",
       "      <td>0.232027</td>\n",
       "      <td>0.723577</td>\n",
       "      <td>0.750680</td>\n",
       "    </tr>\n",
       "    <tr>\n",
       "      <th>3</th>\n",
       "      <td>0.650</td>\n",
       "      <td>0.809600</td>\n",
       "      <td>0.208665</td>\n",
       "      <td>0.674797</td>\n",
       "      <td>0.728718</td>\n",
       "    </tr>\n",
       "    <tr>\n",
       "      <th>4</th>\n",
       "      <td>0.700</td>\n",
       "      <td>0.826165</td>\n",
       "      <td>0.182967</td>\n",
       "      <td>0.587398</td>\n",
       "      <td>0.682905</td>\n",
       "    </tr>\n",
       "    <tr>\n",
       "      <th>5</th>\n",
       "      <td>0.750</td>\n",
       "      <td>0.843899</td>\n",
       "      <td>0.158649</td>\n",
       "      <td>0.524390</td>\n",
       "      <td>0.652194</td>\n",
       "    </tr>\n",
       "    <tr>\n",
       "      <th>6</th>\n",
       "      <td>0.800</td>\n",
       "      <td>0.882978</td>\n",
       "      <td>0.105979</td>\n",
       "      <td>0.394309</td>\n",
       "      <td>0.589776</td>\n",
       "    </tr>\n",
       "    <tr>\n",
       "      <th>7</th>\n",
       "      <td>0.825</td>\n",
       "      <td>0.945843</td>\n",
       "      <td>0.006584</td>\n",
       "      <td>0.044715</td>\n",
       "      <td>0.405166</td>\n",
       "    </tr>\n",
       "    <tr>\n",
       "      <th>8</th>\n",
       "      <td>0.850</td>\n",
       "      <td>0.947223</td>\n",
       "      <td>0.000956</td>\n",
       "      <td>0.004065</td>\n",
       "      <td>0.381328</td>\n",
       "    </tr>\n",
       "    <tr>\n",
       "      <th>9</th>\n",
       "      <td>0.900</td>\n",
       "      <td>0.947754</td>\n",
       "      <td>0.000000</td>\n",
       "      <td>0.000000</td>\n",
       "      <td>0.379102</td>\n",
       "    </tr>\n",
       "  </tbody>\n",
       "</table>\n",
       "</div>"
      ],
      "text/plain": [
       "   quota  accuracy  pred_perc    recall  acc_recall\n",
       "0  0.500  0.748965   0.280132  0.778455    0.766659\n",
       "1  0.550  0.769035   0.257513  0.754065    0.760053\n",
       "2  0.600  0.791335   0.232027  0.723577    0.750680\n",
       "3  0.650  0.809600   0.208665  0.674797    0.728718\n",
       "4  0.700  0.826165   0.182967  0.587398    0.682905\n",
       "5  0.750  0.843899   0.158649  0.524390    0.652194\n",
       "6  0.800  0.882978   0.105979  0.394309    0.589776\n",
       "7  0.825  0.945843   0.006584  0.044715    0.405166\n",
       "8  0.850  0.947223   0.000956  0.004065    0.381328\n",
       "9  0.900  0.947754   0.000000  0.000000    0.379102"
      ]
     },
     "execution_count": 15,
     "metadata": {},
     "output_type": "execute_result"
    }
   ],
   "source": [
    "balance_res_rf['acc_recall'] = 0.4 * balance_res_rf['accuracy'] + 0.6 * balance_res_rf['recall']\n",
    "balance_res_rf"
   ]
  },
  {
   "cell_type": "markdown",
   "metadata": {},
   "source": [
    "A basic proportion of 50% for not lapsed values seems to lead to good results. Let's use that for the GridSearch step."
   ]
  },
  {
   "cell_type": "code",
   "execution_count": 16,
   "metadata": {},
   "outputs": [
    {
     "name": "stdout",
     "output_type": "stream",
     "text": [
      "(1314, 27)\n",
      "(1314, 2)\n"
     ]
    }
   ],
   "source": [
    "quota = 0.5\n",
    "n_sample = int(X_train_1.shape[0] * quota / (1 - quota) // 1)\n",
    "X_train_0_ = X_train_0.sample(n=n_sample, random_state=101)\n",
    "\n",
    "X_train_ = X_train_0_.append(X_train_1)\n",
    "print(X_train_.shape)\n",
    "\n",
    "y_train_ = y_train.loc[X_train_.index]\n",
    "print(y_train_.shape)\n",
    "\n",
    "df_ = y_train_.join(X_train_)\n",
    "y_corr = df_.drop('customer_id', axis=1).corr().loc['lapsed_next_period']"
   ]
  },
  {
   "cell_type": "code",
   "execution_count": 17,
   "metadata": {},
   "outputs": [
    {
     "name": "stdout",
     "output_type": "stream",
     "text": [
      "27\n"
     ]
    }
   ],
   "source": [
    "model_cols = list(X_train_.columns.values)\n",
    "print(len(model_cols))"
   ]
  },
  {
   "cell_type": "code",
   "execution_count": 18,
   "metadata": {},
   "outputs": [
    {
     "name": "stdout",
     "output_type": "stream",
     "text": [
      "0.77701674277\n"
     ]
    }
   ],
   "source": [
    "# Logistic Regression for feature selection\n",
    "log_test = LogisticRegression()\n",
    "log_test = log_test.fit(X_train_[model_cols], y_train_['lapsed_next_period'])\n",
    "score_log = log_test.score(X_train_[model_cols], y_train_['lapsed_next_period'])\n",
    "print(score_log)"
   ]
  },
  {
   "cell_type": "code",
   "execution_count": 19,
   "metadata": {},
   "outputs": [
    {
     "data": {
      "text/html": [
       "<div>\n",
       "<style>\n",
       "    .dataframe thead tr:only-child th {\n",
       "        text-align: right;\n",
       "    }\n",
       "\n",
       "    .dataframe thead th {\n",
       "        text-align: left;\n",
       "    }\n",
       "\n",
       "    .dataframe tbody tr th {\n",
       "        vertical-align: top;\n",
       "    }\n",
       "</style>\n",
       "<table border=\"1\" class=\"dataframe\">\n",
       "  <thead>\n",
       "    <tr style=\"text-align: right;\">\n",
       "      <th></th>\n",
       "      <th>0</th>\n",
       "      <th>1</th>\n",
       "    </tr>\n",
       "  </thead>\n",
       "  <tbody>\n",
       "    <tr>\n",
       "      <th>14</th>\n",
       "      <td>ib_per_order_199004</td>\n",
       "      <td>[-0.0213764750621]</td>\n",
       "    </tr>\n",
       "    <tr>\n",
       "      <th>0</th>\n",
       "      <td>var4</td>\n",
       "      <td>[-0.0210824772484]</td>\n",
       "    </tr>\n",
       "    <tr>\n",
       "      <th>6</th>\n",
       "      <td>net_spend_199004</td>\n",
       "      <td>[-0.00102609225257]</td>\n",
       "    </tr>\n",
       "    <tr>\n",
       "      <th>9</th>\n",
       "      <td>quote_var1_199003</td>\n",
       "      <td>[0.0133148643324]</td>\n",
       "    </tr>\n",
       "    <tr>\n",
       "      <th>10</th>\n",
       "      <td>quote_var1_199004</td>\n",
       "      <td>[0.0417052177444]</td>\n",
       "    </tr>\n",
       "  </tbody>\n",
       "</table>\n",
       "</div>"
      ],
      "text/plain": [
       "                      0                    1\n",
       "14  ib_per_order_199004   [-0.0213764750621]\n",
       "0                  var4   [-0.0210824772484]\n",
       "6      net_spend_199004  [-0.00102609225257]\n",
       "9     quote_var1_199003    [0.0133148643324]\n",
       "10    quote_var1_199004    [0.0417052177444]"
      ]
     },
     "execution_count": 19,
     "metadata": {},
     "output_type": "execute_result"
    }
   ],
   "source": [
    "log_features = pd.DataFrame(list(zip(X_train_[model_cols].columns, np.transpose(log_test.coef_))))\n",
    "log_features[(log_features[1] >= -0.05) & (log_features[1] <= 0.05)].sort_values(1, ascending=True)"
   ]
  },
  {
   "cell_type": "code",
   "execution_count": 20,
   "metadata": {},
   "outputs": [
    {
     "name": "stdout",
     "output_type": "stream",
     "text": [
      "['var4', 'net_spend_199004', 'quote_var1_199003', 'quote_var1_199004', 'ib_per_order_199004']\n"
     ]
    }
   ],
   "source": [
    "weak_predictors = list(log_features[(log_features[1] >= -0.05) & (log_features[1] <= 0.05)][0])\n",
    "#weak_predictors.remove('var6_0.0') # I can't remove this without the other categories of the variable\n",
    "print(weak_predictors)"
   ]
  },
  {
   "cell_type": "code",
   "execution_count": 21,
   "metadata": {},
   "outputs": [
    {
     "name": "stdout",
     "output_type": "stream",
     "text": [
      "22\n"
     ]
    }
   ],
   "source": [
    "model_cols2 = [x for x in model_cols if x not in weak_predictors]\n",
    "print(len(model_cols2))"
   ]
  },
  {
   "cell_type": "code",
   "execution_count": 22,
   "metadata": {},
   "outputs": [
    {
     "name": "stdout",
     "output_type": "stream",
     "text": [
      "0.777777777778\n"
     ]
    }
   ],
   "source": [
    "# REPEAT Logistic Regression for feature selection\n",
    "log_test = LogisticRegression()\n",
    "log_test = log_test.fit(X_train_[model_cols2], y_train_['lapsed_next_period'])\n",
    "score_log = log_test.score(X_train_[model_cols2], y_train_['lapsed_next_period'])\n",
    "print(score_log)"
   ]
  },
  {
   "cell_type": "code",
   "execution_count": 23,
   "metadata": {},
   "outputs": [
    {
     "data": {
      "text/html": [
       "<div>\n",
       "<style>\n",
       "    .dataframe thead tr:only-child th {\n",
       "        text-align: right;\n",
       "    }\n",
       "\n",
       "    .dataframe thead th {\n",
       "        text-align: left;\n",
       "    }\n",
       "\n",
       "    .dataframe tbody tr th {\n",
       "        vertical-align: top;\n",
       "    }\n",
       "</style>\n",
       "<table border=\"1\" class=\"dataframe\">\n",
       "  <thead>\n",
       "    <tr style=\"text-align: right;\">\n",
       "      <th></th>\n",
       "      <th>0</th>\n",
       "      <th>1</th>\n",
       "    </tr>\n",
       "  </thead>\n",
       "  <tbody>\n",
       "    <tr>\n",
       "      <th>8</th>\n",
       "      <td>quote_var2_199004</td>\n",
       "      <td>[0.0264463613984]</td>\n",
       "    </tr>\n",
       "  </tbody>\n",
       "</table>\n",
       "</div>"
      ],
      "text/plain": [
       "                   0                  1\n",
       "8  quote_var2_199004  [0.0264463613984]"
      ]
     },
     "execution_count": 23,
     "metadata": {},
     "output_type": "execute_result"
    }
   ],
   "source": [
    "log_features2 = pd.DataFrame(list(zip(X_train_[model_cols2].columns, np.transpose(log_test.coef_))))\n",
    "log_features2[(log_features2[1] >= -0.05) & (log_features2[1] <= 0.05)].sort_values(1, ascending=True)"
   ]
  },
  {
   "cell_type": "code",
   "execution_count": 24,
   "metadata": {},
   "outputs": [
    {
     "name": "stdout",
     "output_type": "stream",
     "text": [
      "0.274609748327\n",
      "0.753424657534\n"
     ]
    }
   ],
   "source": [
    "# Random Forest example\n",
    "rf_params = {\n",
    "    'n_jobs': -1,\n",
    "    'n_estimators': 200,\n",
    "     'warm_start': True, \n",
    "     #'max_features': 0.2,\n",
    "    'max_depth': 4,\n",
    "    'min_samples_leaf': 4,\n",
    "    'max_features' : 'sqrt',\n",
    "    'verbose': 0\n",
    "}\n",
    "\n",
    "rf = RandomForestClassifier(**rf_params)\n",
    "rf.fit(X_train_[model_cols2], y_train_['lapsed_next_period'])\n",
    "\n",
    "rf_pred = rf.predict(X_test[model_cols2])\n",
    "\n",
    "print(rf_pred.sum()/len(rf_pred))\n",
    "\n",
    "print(accuracy_score(y_test['lapsed_next_period'], rf_pred))"
   ]
  },
  {
   "cell_type": "code",
   "execution_count": 25,
   "metadata": {},
   "outputs": [
    {
     "data": {
      "text/plain": [
       "0.76829268292682928"
      ]
     },
     "execution_count": 25,
     "metadata": {},
     "output_type": "execute_result"
    }
   ],
   "source": [
    "cf = confusion_matrix(y_test['lapsed_next_period'], rf_pred)\n",
    "cf[1,1]/cf[1,:].sum()"
   ]
  },
  {
   "cell_type": "code",
   "execution_count": 61,
   "metadata": {
    "collapsed": true
   },
   "outputs": [],
   "source": [
    "def right_classification(y_true, y_pred):\n",
    "    cf = confusion_matrix(y_true, y_pred)\n",
    "    return cf[1, 1] / cf[1, :].sum()\n",
    "\n",
    "def acc_recall_v2(y_true, y_pred):\n",
    "    cf = confusion_matrix(y_true, y_pred)\n",
    "    ac = accuracy_score(y_true, y_pred)\n",
    "    rc = cf[1, 1] / cf[1, :].sum()\n",
    "    return (0.45 * ac + 0.65 * rc) / (abs(rc-ac) + 1)"
   ]
  },
  {
   "cell_type": "code",
   "execution_count": 62,
   "metadata": {
    "collapsed": true
   },
   "outputs": [],
   "source": [
    "# Setting multiple hyperparameters for every classifier we are going to implement\n",
    "\n",
    "# Random Forest\n",
    "rf_params_gs = {\n",
    "    'n_jobs': [-1],\n",
    "    'n_estimators': [100, 125, 150, 175, 200], #, 250, 300, 350, 400, 500],\n",
    "    'warm_start': [True], \n",
    "     #'max_features': 0.2,\n",
    "    'max_depth': [4, 5, 6],\n",
    "    'min_samples_leaf': [4, 5, 6], #[2, 3]\n",
    "    'max_features' : ['sqrt'],\n",
    "    'verbose': [0]\n",
    "}\n",
    "\n",
    "# Extra Trees\n",
    "et_params_gs = {\n",
    "    'n_jobs': [-1],\n",
    "    'n_estimators': [600, 650, 700, 800],\n",
    "    'max_depth': [3, 4, 5, 6],\n",
    "    'min_samples_leaf': [2, 3, 4],\n",
    "    'verbose': [0]\n",
    "}\n",
    "\n",
    "# AdaBoost parameters\n",
    "ada_params_gs = {\n",
    "    'n_estimators': [100, 125, 150, 175, 200],\n",
    "    'learning_rate': [0.03, 0.05, 0.07]\n",
    "}\n",
    "\n",
    "# Gradient Boosting parameters\n",
    "gb_params_gs = {\n",
    "    'n_estimators': [100, 125, 150, 175], # 200, 250, 300],\n",
    "    'max_depth': [2, 3, 4, 5],\n",
    "    'min_samples_leaf': [4, 5, 6],\n",
    "    'verbose': [0]\n",
    "}\n",
    "\n",
    "# SVC parameters\n",
    "svc_params_gs = {\n",
    "    'kernel': ['linear', 'rbf'],\n",
    "    'C': [1e-8, 5e-8, 1e-7, 5e-7, 1e-6, 5e-6, 1e-5, 5e-5, 1e-4, 5e-4, 1e-3, 5e-3, 0.01, 0.05]\n",
    "}\n",
    "\n",
    "# Logistic regression parameters\n",
    "log_params_gs = {\n",
    "    'solver': ['liblinear'],\n",
    "    'max_iter': [100, 200, 300],\n",
    "    'verbose': [0]\n",
    "}\n",
    "\n",
    "# XGBoosting parameters\n",
    "xgb_params_gs = {\n",
    "    'objective':['binary:logistic'],\n",
    "    'learning_rate': [5e-4, 1e-3, 2e-3], #0.01], #so called `eta` value\n",
    "    'max_depth': [2, 3, 4], #5, 6],\n",
    "    'min_child_weight': [11],\n",
    "    'silent': [1],\n",
    "    'subsample': [0.8],\n",
    "    'colsample_bytree': [0.7],\n",
    "    'n_estimators': [300, 400, 500], #number of trees, change it to 1000 for better results\n",
    "    'missing':[-999]\n",
    "}"
   ]
  },
  {
   "cell_type": "code",
   "execution_count": 63,
   "metadata": {
    "collapsed": true
   },
   "outputs": [],
   "source": [
    "scoring = {'acc_recall': make_scorer(acc_recall_v2)}"
   ]
  },
  {
   "cell_type": "code",
   "execution_count": 64,
   "metadata": {
    "collapsed": true
   },
   "outputs": [],
   "source": [
    "# Istantiate the classifiers\n",
    "rf = GridSearchCV(RandomForestClassifier(), rf_params_gs, cv=5, scoring=scoring, refit='acc_recall')\n",
    "et = GridSearchCV(ExtraTreesClassifier(), et_params_gs, cv=5, scoring=scoring, refit='acc_recall')\n",
    "ada = GridSearchCV(AdaBoostClassifier(), ada_params_gs, cv=5, scoring=scoring, refit='acc_recall')\n",
    "gb = GridSearchCV(GradientBoostingClassifier(), gb_params_gs, cv=5, scoring=scoring, refit='acc_recall')\n",
    "svc = GridSearchCV(SVC(), svc_params_gs, cv=5, scoring=scoring, refit='acc_recall')\n",
    "log = GridSearchCV(LogisticRegression(), log_params_gs, cv=5, scoring=scoring, refit='acc_recall')\n",
    "xgbm = GridSearchCV(xgb.XGBClassifier(), xgb_params_gs, cv=5, scoring=scoring, refit='acc_recall')"
   ]
  },
  {
   "cell_type": "code",
   "execution_count": 65,
   "metadata": {
    "collapsed": true
   },
   "outputs": [],
   "source": [
    "def classifier_runner(clf, Xtr, ytr, Xte, yte):\n",
    "    print('-'*40)\n",
    "    print(clf.estimator)\n",
    "    print('-'*40)\n",
    "    clf.fit(Xtr, ytr)\n",
    "    clf.best_params_\n",
    "    print(clf.best_params_)\n",
    "    \n",
    "    print()\n",
    "    \n",
    "#     means = clf.cv_results_['mean_test_score']\n",
    "#     stds = clf.cv_results_['std_test_score']\n",
    "#     for mean, std, params in zip(means, stds, clf.cv_results_['params']):\n",
    "#         print(\"%0.3f (+/-%0.03f) for %r\" % (mean, std*2, params))\n",
    "        \n",
    "    print()\n",
    "    y_true, y_pred = yte, clf.predict(Xte)\n",
    "    print(classification_report(y_true, y_pred))\n",
    "    print(accuracy_score(y_true, y_pred))\n",
    "    print(confusion_matrix(y_true, y_pred))\n",
    "    print(right_classification(y_true, y_pred))\n",
    "    \n",
    "    return clf, y_pred"
   ]
  },
  {
   "cell_type": "code",
   "execution_count": 66,
   "metadata": {
    "collapsed": true
   },
   "outputs": [],
   "source": [
    "model_cols = model_cols2"
   ]
  },
  {
   "cell_type": "code",
   "execution_count": 67,
   "metadata": {
    "scrolled": false
   },
   "outputs": [
    {
     "name": "stdout",
     "output_type": "stream",
     "text": [
      "----------------------------------------\n",
      "RandomForestClassifier(bootstrap=True, class_weight=None, criterion='gini',\n",
      "            max_depth=None, max_features='auto', max_leaf_nodes=None,\n",
      "            min_impurity_decrease=0.0, min_impurity_split=None,\n",
      "            min_samples_leaf=1, min_samples_split=2,\n",
      "            min_weight_fraction_leaf=0.0, n_estimators=10, n_jobs=1,\n",
      "            oob_score=False, random_state=None, verbose=0,\n",
      "            warm_start=False)\n",
      "----------------------------------------\n",
      "{'n_estimators': 150, 'max_features': 'sqrt', 'min_samples_leaf': 5, 'warm_start': True, 'verbose': 0, 'n_jobs': -1, 'max_depth': 4}\n",
      "\n",
      "\n",
      "             precision    recall  f1-score   support\n",
      "\n",
      "          0       0.98      0.74      0.84      2975\n",
      "          1       0.14      0.78      0.24       164\n",
      "\n",
      "avg / total       0.94      0.74      0.81      3139\n",
      "\n",
      "0.742274609748\n",
      "[[2202  773]\n",
      " [  36  128]]\n",
      "0.780487804878\n"
     ]
    }
   ],
   "source": [
    "rf_clf, rf_ypred = classifier_runner(rf, X_train_[model_cols], y_train_['lapsed_next_period'],\n",
    "                                      X_test[model_cols], y_test['lapsed_next_period'])"
   ]
  },
  {
   "cell_type": "code",
   "execution_count": 68,
   "metadata": {
    "scrolled": false
   },
   "outputs": [
    {
     "name": "stdout",
     "output_type": "stream",
     "text": [
      "----------------------------------------\n",
      "ExtraTreesClassifier(bootstrap=False, class_weight=None, criterion='gini',\n",
      "           max_depth=None, max_features='auto', max_leaf_nodes=None,\n",
      "           min_impurity_decrease=0.0, min_impurity_split=None,\n",
      "           min_samples_leaf=1, min_samples_split=2,\n",
      "           min_weight_fraction_leaf=0.0, n_estimators=10, n_jobs=1,\n",
      "           oob_score=False, random_state=None, verbose=0, warm_start=False)\n",
      "----------------------------------------\n",
      "{'n_estimators': 650, 'n_jobs': -1, 'max_depth': 5, 'verbose': 0, 'min_samples_leaf': 3}\n",
      "\n",
      "\n",
      "             precision    recall  f1-score   support\n",
      "\n",
      "          0       0.98      0.73      0.84      2975\n",
      "          1       0.14      0.77      0.24       164\n",
      "\n",
      "avg / total       0.94      0.74      0.81      3139\n",
      "\n",
      "0.736858872252\n",
      "[[2186  789]\n",
      " [  37  127]]\n",
      "0.774390243902\n"
     ]
    }
   ],
   "source": [
    "et_clf, et_ypred = classifier_runner(et, X_train_[model_cols], y_train_['lapsed_next_period'],\n",
    "                                      X_test[model_cols], y_test['lapsed_next_period'])"
   ]
  },
  {
   "cell_type": "code",
   "execution_count": 69,
   "metadata": {
    "scrolled": true
   },
   "outputs": [
    {
     "name": "stdout",
     "output_type": "stream",
     "text": [
      "----------------------------------------\n",
      "AdaBoostClassifier(algorithm='SAMME.R', base_estimator=None,\n",
      "          learning_rate=1.0, n_estimators=50, random_state=None)\n",
      "----------------------------------------\n",
      "{'n_estimators': 175, 'learning_rate': 0.07}\n",
      "\n",
      "\n",
      "             precision    recall  f1-score   support\n",
      "\n",
      "          0       0.99      0.74      0.84      2975\n",
      "          1       0.14      0.80      0.25       164\n",
      "\n",
      "avg / total       0.94      0.74      0.81      3139\n",
      "\n",
      "0.741000318573\n",
      "[[2194  781]\n",
      " [  32  132]]\n",
      "0.80487804878\n"
     ]
    }
   ],
   "source": [
    "ada_clf, ada_ypred = classifier_runner(ada, X_train_[model_cols], y_train_['lapsed_next_period'],\n",
    "                                        X_test[model_cols], y_test['lapsed_next_period'])"
   ]
  },
  {
   "cell_type": "code",
   "execution_count": 70,
   "metadata": {},
   "outputs": [
    {
     "name": "stdout",
     "output_type": "stream",
     "text": [
      "----------------------------------------\n",
      "GradientBoostingClassifier(criterion='friedman_mse', init=None,\n",
      "              learning_rate=0.1, loss='deviance', max_depth=3,\n",
      "              max_features=None, max_leaf_nodes=None,\n",
      "              min_impurity_decrease=0.0, min_impurity_split=None,\n",
      "              min_samples_leaf=1, min_samples_split=2,\n",
      "              min_weight_fraction_leaf=0.0, n_estimators=100,\n",
      "              presort='auto', random_state=None, subsample=1.0, verbose=0,\n",
      "              warm_start=False)\n",
      "----------------------------------------\n",
      "{'n_estimators': 125, 'max_depth': 2, 'verbose': 0, 'min_samples_leaf': 6}\n",
      "\n",
      "\n",
      "             precision    recall  f1-score   support\n",
      "\n",
      "          0       0.99      0.73      0.84      2975\n",
      "          1       0.14      0.82      0.25       164\n",
      "\n",
      "avg / total       0.94      0.74      0.81      3139\n",
      "\n",
      "0.73749601784\n",
      "[[2181  794]\n",
      " [  30  134]]\n",
      "0.817073170732\n"
     ]
    }
   ],
   "source": [
    "gb_clf, gb_ypred = classifier_runner(gb, X_train_, y_train_['lapsed_next_period'], X_test, y_test['lapsed_next_period'])"
   ]
  },
  {
   "cell_type": "code",
   "execution_count": 71,
   "metadata": {
    "scrolled": false
   },
   "outputs": [
    {
     "name": "stdout",
     "output_type": "stream",
     "text": [
      "----------------------------------------\n",
      "SVC(C=1.0, cache_size=200, class_weight=None, coef0=0.0,\n",
      "  decision_function_shape='ovr', degree=3, gamma='auto', kernel='rbf',\n",
      "  max_iter=-1, probability=False, random_state=None, shrinking=True,\n",
      "  tol=0.001, verbose=False)\n",
      "----------------------------------------\n",
      "{'C': 0.01, 'kernel': 'linear'}\n",
      "\n",
      "\n",
      "             precision    recall  f1-score   support\n",
      "\n",
      "          0       0.98      0.73      0.84      2975\n",
      "          1       0.14      0.79      0.24       164\n",
      "\n",
      "avg / total       0.94      0.73      0.81      3139\n",
      "\n",
      "0.732398853138\n",
      "[[2169  806]\n",
      " [  34  130]]\n",
      "0.792682926829\n"
     ]
    }
   ],
   "source": [
    "svc_clf, svc_ypred = classifier_runner(svc, X_train_, y_train_['lapsed_next_period'], X_test, y_test['lapsed_next_period'])"
   ]
  },
  {
   "cell_type": "code",
   "execution_count": 72,
   "metadata": {
    "scrolled": true
   },
   "outputs": [
    {
     "name": "stdout",
     "output_type": "stream",
     "text": [
      "----------------------------------------\n",
      "LogisticRegression(C=1.0, class_weight=None, dual=False, fit_intercept=True,\n",
      "          intercept_scaling=1, max_iter=100, multi_class='ovr', n_jobs=1,\n",
      "          penalty='l2', random_state=None, solver='liblinear', tol=0.0001,\n",
      "          verbose=0, warm_start=False)\n",
      "----------------------------------------\n",
      "{'solver': 'liblinear', 'max_iter': 100, 'verbose': 0}\n",
      "\n",
      "\n",
      "             precision    recall  f1-score   support\n",
      "\n",
      "          0       0.98      0.74      0.84      2975\n",
      "          1       0.14      0.79      0.24       164\n",
      "\n",
      "avg / total       0.94      0.74      0.81      3139\n",
      "\n",
      "0.738770309016\n",
      "[[2190  785]\n",
      " [  35  129]]\n",
      "0.786585365854\n"
     ]
    }
   ],
   "source": [
    "log_clf, log_ypred =classifier_runner(log, X_train_[model_cols], y_train_['lapsed_next_period'],\n",
    "                                      X_test[model_cols], y_test['lapsed_next_period'])"
   ]
  },
  {
   "cell_type": "code",
   "execution_count": 73,
   "metadata": {
    "scrolled": false
   },
   "outputs": [
    {
     "name": "stdout",
     "output_type": "stream",
     "text": [
      "----------------------------------------\n",
      "XGBClassifier(base_score=0.5, booster='gbtree', colsample_bylevel=1,\n",
      "       colsample_bytree=1, gamma=0, learning_rate=0.1, max_delta_step=0,\n",
      "       max_depth=3, min_child_weight=1, missing=None, n_estimators=100,\n",
      "       n_jobs=1, nthread=None, objective='binary:logistic', random_state=0,\n",
      "       reg_alpha=0, reg_lambda=1, scale_pos_weight=1, seed=None,\n",
      "       silent=True, subsample=1)\n",
      "----------------------------------------\n",
      "{'n_estimators': 500, 'objective': 'binary:logistic', 'silent': 1, 'colsample_bytree': 0.7, 'missing': -999, 'subsample': 0.8, 'min_child_weight': 11, 'max_depth': 3, 'learning_rate': 0.002}\n",
      "\n",
      "\n",
      "             precision    recall  f1-score   support\n",
      "\n",
      "          0       0.98      0.76      0.86      2975\n",
      "          1       0.15      0.77      0.25       164\n",
      "\n",
      "avg / total       0.94      0.76      0.82      3139\n",
      "\n",
      "0.758521822236\n",
      "[[2254  721]\n",
      " [  37  127]]\n",
      "0.774390243902\n"
     ]
    }
   ],
   "source": [
    "xgbm_clf, xgbm_ypred = classifier_runner(xgbm, X_train_[model_cols], y_train_['lapsed_next_period'],\n",
    "                                         X_test[model_cols], y_test['lapsed_next_period'])"
   ]
  },
  {
   "cell_type": "markdown",
   "metadata": {},
   "source": [
    "### Feature importances"
   ]
  },
  {
   "cell_type": "code",
   "execution_count": 74,
   "metadata": {},
   "outputs": [],
   "source": [
    "class SklearnHelper(object):\n",
    "    def __init__(self, clf, seed=0, params=None):\n",
    "        params['random_state'] = seed\n",
    "        self.clf = clf(**params)\n",
    "\n",
    "    def train(self, x_train, y_train):\n",
    "        self.clf.fit(x_train, y_train)\n",
    "\n",
    "    def predict(self, x):\n",
    "        return self.clf.predict(x)\n",
    "    \n",
    "    def fit(self,x,y):\n",
    "        return self.clf.fit(x,y)\n",
    "    \n",
    "rf_best = SklearnHelper(clf=RandomForestClassifier, params=rf_clf.best_params_)\n",
    "et_best = SklearnHelper(clf=ExtraTreesClassifier, params=et_clf.best_params_)\n",
    "ada_best = SklearnHelper(clf=AdaBoostClassifier, params=ada_clf.best_params_)\n",
    "gb_best = SklearnHelper(clf=GradientBoostingClassifier, params=gb_clf.best_params_)\n",
    "svc_best = SklearnHelper(clf=SVC, params=svc_clf.best_params_)\n",
    "log_best = SklearnHelper(clf=LogisticRegression, params=log_clf.best_params_)\n",
    "xgbm_best = SklearnHelper(clf=xgb.XGBClassifier, params=xgbm_clf.best_params_)"
   ]
  },
  {
   "cell_type": "code",
   "execution_count": 75,
   "metadata": {
    "collapsed": true
   },
   "outputs": [],
   "source": [
    "rf_best = rf_best.fit(X_train_[model_cols], y_train_['lapsed_next_period'])\n",
    "et_best = et_best.fit(X_train_[model_cols], y_train_['lapsed_next_period'])\n",
    "ada_best = ada_best.fit(X_train_[model_cols], y_train_['lapsed_next_period'])\n",
    "gb_best = gb_best.fit(X_train_[model_cols], y_train_['lapsed_next_period'])\n",
    "svc_best = svc_best.fit(X_train_[model_cols], y_train_['lapsed_next_period'])\n",
    "log_best = log_best.fit(X_train_[model_cols], y_train_['lapsed_next_period'])\n",
    "xgbm_best = xgbm_best.fit(X_train_[model_cols], y_train_['lapsed_next_period'])"
   ]
  },
  {
   "cell_type": "code",
   "execution_count": 76,
   "metadata": {
    "collapsed": true
   },
   "outputs": [],
   "source": [
    "rf_best_score = right_classification(y_pred=rf_best.predict(X_train_[model_cols]),\n",
    "                                     y_true=y_train_['lapsed_next_period'])\n",
    "et_best_score = right_classification(y_pred=et_best.predict(X_train_[model_cols]),\n",
    "                                     y_true=y_train_['lapsed_next_period'])\n",
    "ada_best_score = right_classification(y_pred=ada_best.predict(X_train_[model_cols]),\n",
    "                                     y_true=y_train_['lapsed_next_period'])\n",
    "gb_best_score = right_classification(y_pred=gb_best.predict(X_train_[model_cols]),\n",
    "                                     y_true=y_train_['lapsed_next_period'])\n",
    "svc_best_score = right_classification(y_pred=svc_best.predict(X_train_[model_cols]),\n",
    "                                     y_true=y_train_['lapsed_next_period'])\n",
    "log_best_score = right_classification(y_pred=log_best.predict(X_train_[model_cols]),\n",
    "                                     y_true=y_train_['lapsed_next_period'])\n",
    "xgbm_best_score = right_classification(y_pred=xgbm_best.predict(X_train_[model_cols]),\n",
    "                                     y_true=y_train_['lapsed_next_period'])"
   ]
  },
  {
   "cell_type": "code",
   "execution_count": 77,
   "metadata": {
    "collapsed": true
   },
   "outputs": [],
   "source": [
    "rf_best_score_test = right_classification(y_pred=rf_best.predict(X_test[model_cols]),\n",
    "                                     y_true=y_test['lapsed_next_period'])\n",
    "et_best_score_test = right_classification(y_pred=et_best.predict(X_test[model_cols]),\n",
    "                                     y_true=y_test['lapsed_next_period'])\n",
    "ada_best_score_test = right_classification(y_pred=ada_best.predict(X_test[model_cols]),\n",
    "                                     y_true=y_test['lapsed_next_period'])\n",
    "gb_best_score_test = right_classification(y_pred=gb_best.predict(X_test[model_cols]),\n",
    "                                     y_true=y_test['lapsed_next_period'])\n",
    "svc_best_score_test = right_classification(y_pred=svc_best.predict(X_test[model_cols]),\n",
    "                                     y_true=y_test['lapsed_next_period'])\n",
    "log_best_score_test = right_classification(y_pred=log_best.predict(X_test[model_cols]),\n",
    "                                     y_true=y_test['lapsed_next_period'])\n",
    "xgbm_best_score_test = right_classification(y_pred=xgbm_best.predict(X_test[model_cols]),\n",
    "                                     y_true=y_test['lapsed_next_period'])"
   ]
  },
  {
   "cell_type": "code",
   "execution_count": 78,
   "metadata": {},
   "outputs": [
    {
     "data": {
      "text/html": [
       "<div>\n",
       "<style>\n",
       "    .dataframe thead tr:only-child th {\n",
       "        text-align: right;\n",
       "    }\n",
       "\n",
       "    .dataframe thead th {\n",
       "        text-align: left;\n",
       "    }\n",
       "\n",
       "    .dataframe tbody tr th {\n",
       "        vertical-align: top;\n",
       "    }\n",
       "</style>\n",
       "<table border=\"1\" class=\"dataframe\">\n",
       "  <thead>\n",
       "    <tr style=\"text-align: right;\">\n",
       "      <th></th>\n",
       "      <th>Model</th>\n",
       "      <th>Score on test</th>\n",
       "      <th>Score on training</th>\n",
       "    </tr>\n",
       "  </thead>\n",
       "  <tbody>\n",
       "    <tr>\n",
       "      <th>3</th>\n",
       "      <td>Gradient Boosting</td>\n",
       "      <td>0.804878</td>\n",
       "      <td>0.872146</td>\n",
       "    </tr>\n",
       "    <tr>\n",
       "      <th>2</th>\n",
       "      <td>AdaBoosting</td>\n",
       "      <td>0.804878</td>\n",
       "      <td>0.831050</td>\n",
       "    </tr>\n",
       "    <tr>\n",
       "      <th>0</th>\n",
       "      <td>Random Forests</td>\n",
       "      <td>0.780488</td>\n",
       "      <td>0.828006</td>\n",
       "    </tr>\n",
       "    <tr>\n",
       "      <th>1</th>\n",
       "      <td>Extratrees</td>\n",
       "      <td>0.780488</td>\n",
       "      <td>0.828006</td>\n",
       "    </tr>\n",
       "    <tr>\n",
       "      <th>4</th>\n",
       "      <td>Support Vector Machine</td>\n",
       "      <td>0.810976</td>\n",
       "      <td>0.824962</td>\n",
       "    </tr>\n",
       "    <tr>\n",
       "      <th>6</th>\n",
       "      <td>XGBoost</td>\n",
       "      <td>0.774390</td>\n",
       "      <td>0.812785</td>\n",
       "    </tr>\n",
       "    <tr>\n",
       "      <th>5</th>\n",
       "      <td>Logistic Regression</td>\n",
       "      <td>0.786585</td>\n",
       "      <td>0.811263</td>\n",
       "    </tr>\n",
       "  </tbody>\n",
       "</table>\n",
       "</div>"
      ],
      "text/plain": [
       "                    Model  Score on test  Score on training\n",
       "3       Gradient Boosting       0.804878           0.872146\n",
       "2             AdaBoosting       0.804878           0.831050\n",
       "0          Random Forests       0.780488           0.828006\n",
       "1              Extratrees       0.780488           0.828006\n",
       "4  Support Vector Machine       0.810976           0.824962\n",
       "6                 XGBoost       0.774390           0.812785\n",
       "5     Logistic Regression       0.786585           0.811263"
      ]
     },
     "execution_count": 78,
     "metadata": {},
     "output_type": "execute_result"
    }
   ],
   "source": [
    "models = pd.DataFrame({\n",
    "    'Model': ['Random Forests', 'Extratrees', 'AdaBoosting', \n",
    "              'Gradient Boosting', 'Support Vector Machine', \n",
    "              'Logistic Regression','XGBoost'],\n",
    "    'Score on training': [rf_best_score, et_best_score, ada_best_score, gb_best_score, \n",
    "              svc_best_score, log_best_score, xgbm_best_score],\n",
    "    'Score on test': [rf_best_score_test, et_best_score_test, ada_best_score_test, gb_best_score_test, \n",
    "              svc_best_score_test, log_best_score_test, xgbm_best_score_test]})\n",
    "models.sort_values(by='Score on training', ascending=False)"
   ]
  },
  {
   "cell_type": "code",
   "execution_count": 79,
   "metadata": {},
   "outputs": [
    {
     "data": {
      "text/html": [
       "<div>\n",
       "<style>\n",
       "    .dataframe thead tr:only-child th {\n",
       "        text-align: right;\n",
       "    }\n",
       "\n",
       "    .dataframe thead th {\n",
       "        text-align: left;\n",
       "    }\n",
       "\n",
       "    .dataframe tbody tr th {\n",
       "        vertical-align: top;\n",
       "    }\n",
       "</style>\n",
       "<table border=\"1\" class=\"dataframe\">\n",
       "  <thead>\n",
       "    <tr style=\"text-align: right;\">\n",
       "      <th></th>\n",
       "      <th>Feature</th>\n",
       "      <th>RF</th>\n",
       "      <th>Extra</th>\n",
       "      <th>Ada</th>\n",
       "      <th>GB</th>\n",
       "      <th>XGB</th>\n",
       "      <th>Median</th>\n",
       "    </tr>\n",
       "  </thead>\n",
       "  <tbody>\n",
       "    <tr>\n",
       "      <th>1</th>\n",
       "      <td>order_id_199004</td>\n",
       "      <td>0.145753</td>\n",
       "      <td>0.185703</td>\n",
       "      <td>0.108571</td>\n",
       "      <td>0.097599</td>\n",
       "      <td>0.165395</td>\n",
       "      <td>0.145753</td>\n",
       "    </tr>\n",
       "    <tr>\n",
       "      <th>9</th>\n",
       "      <td>gs_per_order_199004</td>\n",
       "      <td>0.170076</td>\n",
       "      <td>0.081671</td>\n",
       "      <td>0.160000</td>\n",
       "      <td>0.124455</td>\n",
       "      <td>0.134574</td>\n",
       "      <td>0.134574</td>\n",
       "    </tr>\n",
       "    <tr>\n",
       "      <th>3</th>\n",
       "      <td>product_type_id_199004</td>\n",
       "      <td>0.196244</td>\n",
       "      <td>0.215018</td>\n",
       "      <td>0.057143</td>\n",
       "      <td>0.071432</td>\n",
       "      <td>0.131523</td>\n",
       "      <td>0.131523</td>\n",
       "    </tr>\n",
       "    <tr>\n",
       "      <th>10</th>\n",
       "      <td>ns_per_ib_199004</td>\n",
       "      <td>0.098034</td>\n",
       "      <td>0.057496</td>\n",
       "      <td>0.108571</td>\n",
       "      <td>0.153155</td>\n",
       "      <td>0.031431</td>\n",
       "      <td>0.098034</td>\n",
       "    </tr>\n",
       "    <tr>\n",
       "      <th>13</th>\n",
       "      <td>ns_per_ib_199003</td>\n",
       "      <td>0.027389</td>\n",
       "      <td>0.016060</td>\n",
       "      <td>0.085714</td>\n",
       "      <td>0.082357</td>\n",
       "      <td>0.085444</td>\n",
       "      <td>0.082357</td>\n",
       "    </tr>\n",
       "    <tr>\n",
       "      <th>11</th>\n",
       "      <td>gs_per_order_199003</td>\n",
       "      <td>0.036514</td>\n",
       "      <td>0.020510</td>\n",
       "      <td>0.080000</td>\n",
       "      <td>0.110610</td>\n",
       "      <td>0.082698</td>\n",
       "      <td>0.080000</td>\n",
       "    </tr>\n",
       "    <tr>\n",
       "      <th>4</th>\n",
       "      <td>net_spend_199003</td>\n",
       "      <td>0.035222</td>\n",
       "      <td>0.039968</td>\n",
       "      <td>0.131429</td>\n",
       "      <td>0.068863</td>\n",
       "      <td>0.069576</td>\n",
       "      <td>0.068863</td>\n",
       "    </tr>\n",
       "    <tr>\n",
       "      <th>0</th>\n",
       "      <td>order_id_199003</td>\n",
       "      <td>0.056243</td>\n",
       "      <td>0.070407</td>\n",
       "      <td>0.005714</td>\n",
       "      <td>0.001160</td>\n",
       "      <td>0.063168</td>\n",
       "      <td>0.056243</td>\n",
       "    </tr>\n",
       "    <tr>\n",
       "      <th>6</th>\n",
       "      <td>quote_spend_returned_199004</td>\n",
       "      <td>0.068504</td>\n",
       "      <td>0.067396</td>\n",
       "      <td>0.051429</td>\n",
       "      <td>0.039393</td>\n",
       "      <td>0.030821</td>\n",
       "      <td>0.051429</td>\n",
       "    </tr>\n",
       "    <tr>\n",
       "      <th>5</th>\n",
       "      <td>quote_spend_returned_199003</td>\n",
       "      <td>0.034502</td>\n",
       "      <td>0.047177</td>\n",
       "      <td>0.074286</td>\n",
       "      <td>0.037039</td>\n",
       "      <td>0.095209</td>\n",
       "      <td>0.047177</td>\n",
       "    </tr>\n",
       "    <tr>\n",
       "      <th>2</th>\n",
       "      <td>product_type_id_199003</td>\n",
       "      <td>0.060908</td>\n",
       "      <td>0.085688</td>\n",
       "      <td>0.045714</td>\n",
       "      <td>0.016175</td>\n",
       "      <td>0.020751</td>\n",
       "      <td>0.045714</td>\n",
       "    </tr>\n",
       "    <tr>\n",
       "      <th>8</th>\n",
       "      <td>quote_var2_199004</td>\n",
       "      <td>0.027438</td>\n",
       "      <td>0.042835</td>\n",
       "      <td>0.028571</td>\n",
       "      <td>0.028354</td>\n",
       "      <td>0.006713</td>\n",
       "      <td>0.028354</td>\n",
       "    </tr>\n",
       "    <tr>\n",
       "      <th>12</th>\n",
       "      <td>ib_per_order_199003</td>\n",
       "      <td>0.022558</td>\n",
       "      <td>0.019165</td>\n",
       "      <td>0.011429</td>\n",
       "      <td>0.101427</td>\n",
       "      <td>0.031736</td>\n",
       "      <td>0.022558</td>\n",
       "    </tr>\n",
       "    <tr>\n",
       "      <th>18</th>\n",
       "      <td>var5_0.0</td>\n",
       "      <td>0.002732</td>\n",
       "      <td>0.009627</td>\n",
       "      <td>0.011429</td>\n",
       "      <td>0.015134</td>\n",
       "      <td>0.014342</td>\n",
       "      <td>0.011429</td>\n",
       "    </tr>\n",
       "    <tr>\n",
       "      <th>19</th>\n",
       "      <td>var5_1.0</td>\n",
       "      <td>0.002347</td>\n",
       "      <td>0.009862</td>\n",
       "      <td>0.040000</td>\n",
       "      <td>0.018330</td>\n",
       "      <td>0.004883</td>\n",
       "      <td>0.009862</td>\n",
       "    </tr>\n",
       "    <tr>\n",
       "      <th>7</th>\n",
       "      <td>quote_var2_199003</td>\n",
       "      <td>0.009588</td>\n",
       "      <td>0.016986</td>\n",
       "      <td>0.000000</td>\n",
       "      <td>0.014062</td>\n",
       "      <td>0.009155</td>\n",
       "      <td>0.009588</td>\n",
       "    </tr>\n",
       "    <tr>\n",
       "      <th>21</th>\n",
       "      <td>var6_1.0</td>\n",
       "      <td>0.001388</td>\n",
       "      <td>0.002834</td>\n",
       "      <td>0.000000</td>\n",
       "      <td>0.006002</td>\n",
       "      <td>0.003052</td>\n",
       "      <td>0.002834</td>\n",
       "    </tr>\n",
       "    <tr>\n",
       "      <th>20</th>\n",
       "      <td>var6_0.0</td>\n",
       "      <td>0.001438</td>\n",
       "      <td>0.002691</td>\n",
       "      <td>0.000000</td>\n",
       "      <td>0.014452</td>\n",
       "      <td>0.010375</td>\n",
       "      <td>0.002691</td>\n",
       "    </tr>\n",
       "    <tr>\n",
       "      <th>15</th>\n",
       "      <td>var3_1.0</td>\n",
       "      <td>0.000960</td>\n",
       "      <td>0.002821</td>\n",
       "      <td>0.000000</td>\n",
       "      <td>0.000000</td>\n",
       "      <td>0.005798</td>\n",
       "      <td>0.000960</td>\n",
       "    </tr>\n",
       "    <tr>\n",
       "      <th>16</th>\n",
       "      <td>var3_2.0</td>\n",
       "      <td>0.001310</td>\n",
       "      <td>0.001654</td>\n",
       "      <td>0.000000</td>\n",
       "      <td>0.000000</td>\n",
       "      <td>0.000915</td>\n",
       "      <td>0.000915</td>\n",
       "    </tr>\n",
       "    <tr>\n",
       "      <th>17</th>\n",
       "      <td>var3_3.0</td>\n",
       "      <td>0.000851</td>\n",
       "      <td>0.004361</td>\n",
       "      <td>0.000000</td>\n",
       "      <td>0.000000</td>\n",
       "      <td>0.002441</td>\n",
       "      <td>0.000851</td>\n",
       "    </tr>\n",
       "    <tr>\n",
       "      <th>14</th>\n",
       "      <td>var3_0.0</td>\n",
       "      <td>0.000000</td>\n",
       "      <td>0.000070</td>\n",
       "      <td>0.000000</td>\n",
       "      <td>0.000000</td>\n",
       "      <td>0.000000</td>\n",
       "      <td>0.000000</td>\n",
       "    </tr>\n",
       "  </tbody>\n",
       "</table>\n",
       "</div>"
      ],
      "text/plain": [
       "                        Feature        RF     Extra       Ada        GB  \\\n",
       "1               order_id_199004  0.145753  0.185703  0.108571  0.097599   \n",
       "9           gs_per_order_199004  0.170076  0.081671  0.160000  0.124455   \n",
       "3        product_type_id_199004  0.196244  0.215018  0.057143  0.071432   \n",
       "10             ns_per_ib_199004  0.098034  0.057496  0.108571  0.153155   \n",
       "13             ns_per_ib_199003  0.027389  0.016060  0.085714  0.082357   \n",
       "11          gs_per_order_199003  0.036514  0.020510  0.080000  0.110610   \n",
       "4              net_spend_199003  0.035222  0.039968  0.131429  0.068863   \n",
       "0               order_id_199003  0.056243  0.070407  0.005714  0.001160   \n",
       "6   quote_spend_returned_199004  0.068504  0.067396  0.051429  0.039393   \n",
       "5   quote_spend_returned_199003  0.034502  0.047177  0.074286  0.037039   \n",
       "2        product_type_id_199003  0.060908  0.085688  0.045714  0.016175   \n",
       "8             quote_var2_199004  0.027438  0.042835  0.028571  0.028354   \n",
       "12          ib_per_order_199003  0.022558  0.019165  0.011429  0.101427   \n",
       "18                     var5_0.0  0.002732  0.009627  0.011429  0.015134   \n",
       "19                     var5_1.0  0.002347  0.009862  0.040000  0.018330   \n",
       "7             quote_var2_199003  0.009588  0.016986  0.000000  0.014062   \n",
       "21                     var6_1.0  0.001388  0.002834  0.000000  0.006002   \n",
       "20                     var6_0.0  0.001438  0.002691  0.000000  0.014452   \n",
       "15                     var3_1.0  0.000960  0.002821  0.000000  0.000000   \n",
       "16                     var3_2.0  0.001310  0.001654  0.000000  0.000000   \n",
       "17                     var3_3.0  0.000851  0.004361  0.000000  0.000000   \n",
       "14                     var3_0.0  0.000000  0.000070  0.000000  0.000000   \n",
       "\n",
       "         XGB    Median  \n",
       "1   0.165395  0.145753  \n",
       "9   0.134574  0.134574  \n",
       "3   0.131523  0.131523  \n",
       "10  0.031431  0.098034  \n",
       "13  0.085444  0.082357  \n",
       "11  0.082698  0.080000  \n",
       "4   0.069576  0.068863  \n",
       "0   0.063168  0.056243  \n",
       "6   0.030821  0.051429  \n",
       "5   0.095209  0.047177  \n",
       "2   0.020751  0.045714  \n",
       "8   0.006713  0.028354  \n",
       "12  0.031736  0.022558  \n",
       "18  0.014342  0.011429  \n",
       "19  0.004883  0.009862  \n",
       "7   0.009155  0.009588  \n",
       "21  0.003052  0.002834  \n",
       "20  0.010375  0.002691  \n",
       "15  0.005798  0.000960  \n",
       "16  0.000915  0.000915  \n",
       "17  0.002441  0.000851  \n",
       "14  0.000000  0.000000  "
      ]
     },
     "execution_count": 79,
     "metadata": {},
     "output_type": "execute_result"
    }
   ],
   "source": [
    "summary = pd.DataFrame(list(zip(X_train_[model_cols].columns,\n",
    "    np.transpose(rf_best.feature_importances_),\n",
    "    np.transpose(et_best.feature_importances_),\n",
    "    np.transpose(ada_best.feature_importances_),\n",
    "    np.transpose(gb_best.feature_importances_),\n",
    "    np.transpose(xgbm_best.feature_importances_),\n",
    "    )), columns=['Feature','RF','Extra','Ada','GB','XGB'])\n",
    "  \n",
    "summary['Median'] = summary.median(1)\n",
    "summary.sort_values('Median', ascending=False)"
   ]
  },
  {
   "cell_type": "code",
   "execution_count": 80,
   "metadata": {},
   "outputs": [
    {
     "data": {
      "image/png": "[encoded data removed]",
      "text/plain": [
       "<matplotlib.figure.Figure at 0x7f7b5b8a24a8>"
      ]
     },
     "metadata": {},
     "output_type": "display_data"
    }
   ],
   "source": [
    "# correlation between model predictions on training data\n",
    "base_predictions_train = pd.DataFrame( {'RandomForest': rf_best.predict(X_train_[model_cols]),\n",
    "     'ExtraTrees': et_best.predict(X_train_[model_cols]),\n",
    "     'AdaBoost': ada_best.predict(X_train_[model_cols]),\n",
    "     'SVM' : svc_best.predict(X_train_[model_cols]),\n",
    "     'GradientBoost': gb_best.predict(X_train_[model_cols]),\n",
    "     'Logistic Regression': log_best.predict(X_train_[model_cols]),\n",
    "     'XGBoost': xgbm_best.predict(X_train_[model_cols])\n",
    "    })\n",
    "\n",
    "plt.figure(figsize=(12,10))\n",
    "foo = sns.heatmap(base_predictions_train.corr(), vmax=1.0, square=True, annot=True)"
   ]
  },
  {
   "cell_type": "code",
   "execution_count": 81,
   "metadata": {},
   "outputs": [
    {
     "data": {
      "text/plain": [
       "VotingClassifier(estimators=[('rf', RandomForestClassifier(bootstrap=True, class_weight=None, criterion='gini',\n",
       "            max_depth=4, max_features='sqrt', max_leaf_nodes=None,\n",
       "            min_impurity_decrease=0.0, min_impurity_split=None,\n",
       "            min_samples_leaf=5, min_samples_split=2,\n",
       "            min_weigh...nalty='l2', random_state=0, solver='liblinear', tol=0.0001,\n",
       "          verbose=0, warm_start=False))],\n",
       "         flatten_transform=None, n_jobs=1, voting='hard',\n",
       "         weights=[2, 1, 1, 2, 2, 3, 1])"
      ]
     },
     "execution_count": 81,
     "metadata": {},
     "output_type": "execute_result"
    }
   ],
   "source": [
    "# Voting classifier\n",
    "clf_vote = VotingClassifier(\n",
    "    estimators=[\n",
    "        #('tree', clf_tree),\n",
    "        ('rf', rf_best),\n",
    "        ('et', et_best),\n",
    "        ('ada', ada_best),\n",
    "        ('gb', gb_best),\n",
    "        ('xgb', xgbm_best),\n",
    "        ('svm', svc_best),\n",
    "        ('logistic', log_best)\n",
    "        ],\n",
    "    weights=[2,1,1,2,2,3,1],\n",
    "    voting='hard')\n",
    "clf_vote.fit(X_train_[model_cols], y_train_['lapsed_next_period'])"
   ]
  },
  {
   "cell_type": "code",
   "execution_count": 82,
   "metadata": {},
   "outputs": [
    {
     "data": {
      "text/plain": [
       "0.81887366818873664"
      ]
     },
     "execution_count": 82,
     "metadata": {},
     "output_type": "execute_result"
    }
   ],
   "source": [
    "clf_vote_score_train = right_classification(y_pred=clf_vote.predict(X_train_[model_cols]),\n",
    "                                     y_true=y_train_['lapsed_next_period'])\n",
    "clf_vote_score_train"
   ]
  },
  {
   "cell_type": "code",
   "execution_count": 83,
   "metadata": {},
   "outputs": [
    {
     "data": {
      "text/plain": [
       "0.78048780487804881"
      ]
     },
     "execution_count": 83,
     "metadata": {},
     "output_type": "execute_result"
    }
   ],
   "source": [
    "clf_vote_score_test = right_classification(y_pred=clf_vote.predict(X_test[model_cols]),\n",
    "                                     y_true=y_test['lapsed_next_period'])\n",
    "clf_vote_score_test"
   ]
  },
  {
   "cell_type": "code",
   "execution_count": 84,
   "metadata": {},
   "outputs": [
    {
     "name": "stdout",
     "output_type": "stream",
     "text": [
      "[[2222  753]\n",
      " [  36  128]]\n"
     ]
    }
   ],
   "source": [
    "print(confusion_matrix(y_test['lapsed_next_period'], clf_vote.predict(X_test[model_cols])))"
   ]
  },
  {
   "cell_type": "code",
   "execution_count": 85,
   "metadata": {},
   "outputs": [
    {
     "name": "stdout",
     "output_type": "stream",
     "text": [
      "[[2155  820]\n",
      " [  31  133]]\n"
     ]
    }
   ],
   "source": [
    "print(confusion_matrix(y_test['lapsed_next_period'], svc_best.predict(X_test[model_cols])))"
   ]
  },
  {
   "cell_type": "code",
   "execution_count": 86,
   "metadata": {},
   "outputs": [
    {
     "name": "stdout",
     "output_type": "stream",
     "text": [
      "0.728894552405\n"
     ]
    }
   ],
   "source": [
    "print(accuracy_score(y_test['lapsed_next_period'], svc_best.predict(X_test[model_cols])))"
   ]
  },
  {
   "cell_type": "code",
   "execution_count": 87,
   "metadata": {},
   "outputs": [
    {
     "name": "stdout",
     "output_type": "stream",
     "text": [
      "0.810975609756\n"
     ]
    }
   ],
   "source": [
    "print(right_classification(y_test['lapsed_next_period'], svc_best.predict(X_test[model_cols])))"
   ]
  },
  {
   "cell_type": "markdown",
   "metadata": {},
   "source": [
    "### the very last test"
   ]
  },
  {
   "cell_type": "code",
   "execution_count": 58,
   "metadata": {},
   "outputs": [
    {
     "name": "stdout",
     "output_type": "stream",
     "text": [
      "----------------------------------------\n",
      "SVC(C=1.0, cache_size=200, class_weight=None, coef0=0.0,\n",
      "  decision_function_shape='ovr', degree=3, gamma='auto', kernel='rbf',\n",
      "  max_iter=-1, probability=False, random_state=None, shrinking=True,\n",
      "  tol=0.001, verbose=False)\n",
      "----------------------------------------\n",
      "{'C': 0.005, 'kernel': 'linear'}\n",
      "\n",
      "\n",
      "             precision    recall  f1-score   support\n",
      "\n",
      "          0       0.98      0.74      0.84      2975\n",
      "          1       0.14      0.79      0.24       164\n",
      "\n",
      "avg / total       0.94      0.74      0.81      3139\n",
      "\n",
      "0.738133163428\n",
      "[[2187  788]\n",
      " [  34  130]]\n",
      "0.792682926829\n"
     ]
    }
   ],
   "source": [
    "def acc_recall(y_true, y_pred):\n",
    "    cf = confusion_matrix(y_true, y_pred)\n",
    "    ac = accuracy_score(y_true, y_pred)\n",
    "    return 0.45 * ac + 0.65 * (cf[1, 1] / cf[1, :].sum())\n",
    "\n",
    "def acc_recall_v2(y_true, y_pred):\n",
    "    cf = confusion_matrix(y_true, y_pred)\n",
    "    ac = accuracy_score(y_true, y_pred)\n",
    "    rc = cf[1, 1] / cf[1, :].sum()\n",
    "    return (0.45 * ac + 0.65 * rc) / abs(rc-ac)\n",
    "\n",
    "new_scoring = {'acc_recall': make_scorer(acc_recall_v2)}\n",
    "\n",
    "# SVC parameters\n",
    "svc_params_gs = {\n",
    "    'kernel': ['linear', 'rbf'],\n",
    "    'C': [1e-8, 5e-8, 1e-7, 5e-7, 1e-6, 5e-6, 1e-5, 5e-5, 1e-4, 5e-4, 1e-3, 5e-3, 0.01, 0.05]\n",
    "}\n",
    "\n",
    "svc_new = GridSearchCV(SVC(), svc_params_gs, cv=5, scoring=new_scoring, refit='acc_recall')\n",
    "\n",
    "svc_clf_new, svc_ypred_new = classifier_runner(svc_new, X_train_, y_train_['lapsed_next_period'],\n",
    "                                               X_test, y_test['lapsed_next_period'])"
   ]
  },
  {
   "cell_type": "code",
   "execution_count": 59,
   "metadata": {},
   "outputs": [
    {
     "name": "stdout",
     "output_type": "stream",
     "text": [
      "0.847403825982\n"
     ]
    }
   ],
   "source": [
    "print(acc_recall(y_test['lapsed_next_period'], svc_ypred_new))"
   ]
  },
  {
   "cell_type": "code",
   "execution_count": 90,
   "metadata": {
    "scrolled": false
   },
   "outputs": [
    {
     "data": {
      "text/plain": [
       "['finalized_model.sav']"
      ]
     },
     "execution_count": 90,
     "metadata": {},
     "output_type": "execute_result"
    }
   ],
   "source": [
    "from sklearn.externals import joblib\n",
    "\n",
    "# save the model to disk\n",
    "filename = 'finalized_model.sav'\n",
    "joblib.dump(rf_best, filename)"
   ]
  },
  {
   "cell_type": "code",
   "execution_count": 91,
   "metadata": {
    "collapsed": true
   },
   "outputs": [],
   "source": [
    "loaded_model = joblib.load(filename)"
   ]
  },
  {
   "cell_type": "code",
   "execution_count": 94,
   "metadata": {},
   "outputs": [
    {
     "data": {
      "text/plain": [
       "array([0, 1, 1, 0, 0, 1, 1, 0, 0, 0])"
      ]
     },
     "execution_count": 94,
     "metadata": {},
     "output_type": "execute_result"
    }
   ],
   "source": [
    "loaded_model.predict(X_test[model_cols].iloc[0:10])"
   ]
  },
  {
   "cell_type": "code",
   "execution_count": null,
   "metadata": {
    "collapsed": true
   },
   "outputs": [],
   "source": [
    "loaded_model."
   ]
  }
 ],
 "metadata": {
  "kernelspec": {
   "display_name": "Python 3",
   "language": "python",
   "name": "python3"
  },
  "language_info": {
   "codemirror_mode": {
    "name": "ipython",
    "version": 3
   },
   "file_extension": ".py",
   "mimetype": "text/x-python",
   "name": "python",
   "nbconvert_exporter": "python",
   "pygments_lexer": "ipython3",
   "version": "3.4.5"
  }
 },
 "nbformat": 4,
 "nbformat_minor": 2
}
