{
 "cells": [
  {
   "cell_type": "code",
   "execution_count": 64,
   "metadata": {},
   "outputs": [],
   "source": [
    "import os\n",
    "import numpy as np\n",
    "import pandas as pd\n",
    "import matplotlib.pyplot as plt\n",
    "import seaborn as sns\n",
    "%matplotlib inline\n",
    "\n",
    "from sklearn.model_selection import train_test_split\n",
    "from sklearn.linear_model import LinearRegression, LogisticRegression\n",
    "from sklearn.tree import DecisionTreeClassifier\n",
    "from sklearn.neural_network import MLPClassifier\n",
    "from sklearn.ensemble import AdaBoostClassifier, BaggingClassifier, ExtraTreesClassifier\n",
    "from sklearn.ensemble import GradientBoostingClassifier, RandomForestClassifier\n",
    "from sklearn.metrics import accuracy_score"
   ]
  },
  {
   "cell_type": "code",
   "execution_count": 11,
   "metadata": {},
   "outputs": [
    {
     "name": "stdout",
     "output_type": "stream",
     "text": [
      "/nfs/science/shared/ipythonNotebooks/leom/Kaggle/Ynap-master\n"
     ]
    }
   ],
   "source": [
    "print(os.getcwd())"
   ]
  },
  {
   "cell_type": "code",
   "execution_count": 12,
   "metadata": {},
   "outputs": [
    {
     "name": "stdout",
     "output_type": "stream",
     "text": [
      "/nfs/science/shared/ipythonNotebooks/leom/Kaggle/Ynap-master/ynap_data\n"
     ]
    }
   ],
   "source": [
    "data_path = os.path.join(os.getcwd(), 'ynap_data')\n",
    "print(data_path)"
   ]
  },
  {
   "cell_type": "code",
   "execution_count": 13,
   "metadata": {
    "collapsed": true
   },
   "outputs": [],
   "source": [
    "df_tot = pd.read_csv(os.path.join(data_path, 'df_tot.csv'))"
   ]
  },
  {
   "cell_type": "code",
   "execution_count": 14,
   "metadata": {},
   "outputs": [
    {
     "data": {
      "text/html": [
       "<div>\n",
       "<style>\n",
       "    .dataframe thead tr:only-child th {\n",
       "        text-align: right;\n",
       "    }\n",
       "\n",
       "    .dataframe thead th {\n",
       "        text-align: left;\n",
       "    }\n",
       "\n",
       "    .dataframe tbody tr th {\n",
       "        vertical-align: top;\n",
       "    }\n",
       "</style>\n",
       "<table border=\"1\" class=\"dataframe\">\n",
       "  <thead>\n",
       "    <tr style=\"text-align: right;\">\n",
       "      <th></th>\n",
       "      <th>customer_id</th>\n",
       "      <th>var3</th>\n",
       "      <th>var4</th>\n",
       "      <th>var5</th>\n",
       "      <th>var6</th>\n",
       "      <th>lapsed_next_period</th>\n",
       "      <th>order_id</th>\n",
       "      <th>product_id</th>\n",
       "      <th>product_type_id</th>\n",
       "      <th>designer_id</th>\n",
       "      <th>gross_spend</th>\n",
       "      <th>net_spend</th>\n",
       "      <th>item_returned</th>\n",
       "      <th>quote_spend_returned</th>\n",
       "      <th>quote_var1</th>\n",
       "      <th>quote_var2</th>\n",
       "    </tr>\n",
       "  </thead>\n",
       "  <tbody>\n",
       "    <tr>\n",
       "      <th>0</th>\n",
       "      <td>553547</td>\n",
       "      <td>3.0</td>\n",
       "      <td>0.34</td>\n",
       "      <td>0.0</td>\n",
       "      <td>0.0</td>\n",
       "      <td>0</td>\n",
       "      <td>53</td>\n",
       "      <td>78</td>\n",
       "      <td>24</td>\n",
       "      <td>43</td>\n",
       "      <td>74.592</td>\n",
       "      <td>56.543</td>\n",
       "      <td>12</td>\n",
       "      <td>0.241970</td>\n",
       "      <td>0.573171</td>\n",
       "      <td>0.573171</td>\n",
       "    </tr>\n",
       "    <tr>\n",
       "      <th>1</th>\n",
       "      <td>213578</td>\n",
       "      <td>3.0</td>\n",
       "      <td>0.11</td>\n",
       "      <td>0.0</td>\n",
       "      <td>0.0</td>\n",
       "      <td>0</td>\n",
       "      <td>364</td>\n",
       "      <td>921</td>\n",
       "      <td>62</td>\n",
       "      <td>256</td>\n",
       "      <td>550.974</td>\n",
       "      <td>469.624</td>\n",
       "      <td>146</td>\n",
       "      <td>0.147648</td>\n",
       "      <td>0.736243</td>\n",
       "      <td>0.000000</td>\n",
       "    </tr>\n",
       "    <tr>\n",
       "      <th>2</th>\n",
       "      <td>906135</td>\n",
       "      <td>3.0</td>\n",
       "      <td>0.05</td>\n",
       "      <td>0.0</td>\n",
       "      <td>0.0</td>\n",
       "      <td>0</td>\n",
       "      <td>146</td>\n",
       "      <td>535</td>\n",
       "      <td>45</td>\n",
       "      <td>153</td>\n",
       "      <td>825.134</td>\n",
       "      <td>237.765</td>\n",
       "      <td>437</td>\n",
       "      <td>0.711847</td>\n",
       "      <td>0.112573</td>\n",
       "      <td>0.681287</td>\n",
       "    </tr>\n",
       "    <tr>\n",
       "      <th>3</th>\n",
       "      <td>226782</td>\n",
       "      <td>2.0</td>\n",
       "      <td>0.01</td>\n",
       "      <td>0.0</td>\n",
       "      <td>0.0</td>\n",
       "      <td>0</td>\n",
       "      <td>76</td>\n",
       "      <td>190</td>\n",
       "      <td>25</td>\n",
       "      <td>75</td>\n",
       "      <td>53.480</td>\n",
       "      <td>35.107</td>\n",
       "      <td>36</td>\n",
       "      <td>0.343549</td>\n",
       "      <td>0.000000</td>\n",
       "      <td>0.492823</td>\n",
       "    </tr>\n",
       "    <tr>\n",
       "      <th>4</th>\n",
       "      <td>103600</td>\n",
       "      <td>2.0</td>\n",
       "      <td>0.33</td>\n",
       "      <td>1.0</td>\n",
       "      <td>0.0</td>\n",
       "      <td>0</td>\n",
       "      <td>72</td>\n",
       "      <td>199</td>\n",
       "      <td>29</td>\n",
       "      <td>85</td>\n",
       "      <td>178.566</td>\n",
       "      <td>84.784</td>\n",
       "      <td>115</td>\n",
       "      <td>0.525195</td>\n",
       "      <td>0.353191</td>\n",
       "      <td>0.225532</td>\n",
       "    </tr>\n",
       "  </tbody>\n",
       "</table>\n",
       "</div>"
      ],
      "text/plain": [
       "   customer_id  var3  var4  var5  var6  lapsed_next_period  order_id  \\\n",
       "0       553547   3.0  0.34   0.0   0.0                   0        53   \n",
       "1       213578   3.0  0.11   0.0   0.0                   0       364   \n",
       "2       906135   3.0  0.05   0.0   0.0                   0       146   \n",
       "3       226782   2.0  0.01   0.0   0.0                   0        76   \n",
       "4       103600   2.0  0.33   1.0   0.0                   0        72   \n",
       "\n",
       "   product_id  product_type_id  designer_id  gross_spend  net_spend  \\\n",
       "0          78               24           43       74.592     56.543   \n",
       "1         921               62          256      550.974    469.624   \n",
       "2         535               45          153      825.134    237.765   \n",
       "3         190               25           75       53.480     35.107   \n",
       "4         199               29           85      178.566     84.784   \n",
       "\n",
       "   item_returned  quote_spend_returned  quote_var1  quote_var2  \n",
       "0             12              0.241970    0.573171    0.573171  \n",
       "1            146              0.147648    0.736243    0.000000  \n",
       "2            437              0.711847    0.112573    0.681287  \n",
       "3             36              0.343549    0.000000    0.492823  \n",
       "4            115              0.525195    0.353191    0.225532  "
      ]
     },
     "execution_count": 14,
     "metadata": {},
     "output_type": "execute_result"
    }
   ],
   "source": [
    "df_tot.head()"
   ]
  },
  {
   "cell_type": "code",
   "execution_count": 16,
   "metadata": {},
   "outputs": [
    {
     "name": "stdout",
     "output_type": "stream",
     "text": [
      "(15695, 14)\n",
      "(15695, 2)\n"
     ]
    }
   ],
   "source": [
    "custs = df_tot['customer_id']\n",
    "X = df_tot.drop(['customer_id', 'lapsed_next_period'], axis=1)\n",
    "y = df_tot[['customer_id', 'lapsed_next_period']]\n",
    "\n",
    "print(X.shape)\n",
    "print(y.shape)"
   ]
  },
  {
   "cell_type": "code",
   "execution_count": 17,
   "metadata": {
    "collapsed": true
   },
   "outputs": [],
   "source": [
    "X_train, X_test, y_train, y_test = train_test_split(X, y, test_size=0.2, random_state=42)"
   ]
  },
  {
   "cell_type": "code",
   "execution_count": 49,
   "metadata": {},
   "outputs": [],
   "source": [
    "X_train_1 = X_train.loc[y_train[y_train['lapsed_next_period'] == 1].index]\n",
    "X_train_0 = X_train.loc[y_train[y_train['lapsed_next_period'] == 0].index]"
   ]
  },
  {
   "cell_type": "code",
   "execution_count": 51,
   "metadata": {},
   "outputs": [
    {
     "name": "stdout",
     "output_type": "stream",
     "text": [
      "(664, 14)\n",
      "(11892, 14)\n",
      "0.05288308378464479\n"
     ]
    }
   ],
   "source": [
    "print(X_train_1.shape)\n",
    "print(X_train_0.shape)\n",
    "print(X_train_1.shape[0]/X_train.shape[0])"
   ]
  },
  {
   "cell_type": "code",
   "execution_count": 53,
   "metadata": {},
   "outputs": [],
   "source": [
    "X_train_0_ = X_train_0.sample(n=X_train_1.shape[0], random_state=2121)"
   ]
  },
  {
   "cell_type": "code",
   "execution_count": 58,
   "metadata": {},
   "outputs": [
    {
     "name": "stdout",
     "output_type": "stream",
     "text": [
      "(1328, 14)\n",
      "(1328, 2)\n"
     ]
    }
   ],
   "source": [
    "X_train_ = X_train_0_.append(X_train_1)\n",
    "print(X_train_.shape)\n",
    "\n",
    "y_train_ = y_train.loc[X_train_.index]\n",
    "print(y_train_.shape)"
   ]
  },
  {
   "cell_type": "code",
   "execution_count": 66,
   "metadata": {},
   "outputs": [
    {
     "data": {
      "text/plain": [
       "RandomForestClassifier(bootstrap=True, class_weight=None, criterion='gini',\n",
       "            max_depth=6, max_features='sqrt', max_leaf_nodes=None,\n",
       "            min_impurity_decrease=0.0, min_impurity_split=None,\n",
       "            min_samples_leaf=2, min_samples_split=2,\n",
       "            min_weight_fraction_leaf=0.0, n_estimators=500, n_jobs=-1,\n",
       "            oob_score=False, random_state=None, verbose=0, warm_start=True)"
      ]
     },
     "execution_count": 66,
     "metadata": {},
     "output_type": "execute_result"
    }
   ],
   "source": [
    "# Random Forest example\n",
    "rf_params = {\n",
    "    'n_jobs': -1,\n",
    "    'n_estimators': 500,\n",
    "     'warm_start': True, \n",
    "     #'max_features': 0.2,\n",
    "    'max_depth': 6,\n",
    "    'min_samples_leaf': 2,\n",
    "    'max_features' : 'sqrt',\n",
    "    'verbose': 0\n",
    "}\n",
    "\n",
    "rf = RandomForestClassifier(**rf_params)\n",
    "rf.fit(X_train_, y_train_['lapsed_next_period'])"
   ]
  },
  {
   "cell_type": "code",
   "execution_count": 67,
   "metadata": {},
   "outputs": [],
   "source": [
    "rf_pred = rf.predict(X_test)"
   ]
  },
  {
   "cell_type": "code",
   "execution_count": 68,
   "metadata": {},
   "outputs": [
    {
     "data": {
      "text/plain": [
       "0.3370500159286397"
      ]
     },
     "execution_count": 68,
     "metadata": {},
     "output_type": "execute_result"
    }
   ],
   "source": [
    "rf_pred.sum()/len(rf_pred)"
   ]
  },
  {
   "cell_type": "code",
   "execution_count": 69,
   "metadata": {},
   "outputs": [
    {
     "data": {
      "text/plain": [
       "0.69194010831474995"
      ]
     },
     "execution_count": 69,
     "metadata": {},
     "output_type": "execute_result"
    }
   ],
   "source": [
    "accuracy_score(y_test['lapsed_next_period'], rf_pred)"
   ]
  }
 ],
 "metadata": {
  "kernelspec": {
   "display_name": "Python 3",
   "language": "python",
   "name": "python3"
  },
  "language_info": {
   "codemirror_mode": {
    "name": "ipython",
    "version": 3
   },
   "file_extension": ".py",
   "mimetype": "text/x-python",
   "name": "python",
   "nbconvert_exporter": "python",
   "pygments_lexer": "ipython3",
   "version": "3.4.5"
  }
 },
 "nbformat": 4,
 "nbformat_minor": 2
}
