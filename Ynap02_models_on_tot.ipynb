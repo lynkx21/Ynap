{
 "cells": [
  {
   "cell_type": "code",
   "execution_count": 94,
   "metadata": {
    "collapsed": true
   },
   "outputs": [],
   "source": [
    "import os\n",
    "import re\n",
    "import numpy as np\n",
    "import pandas as pd\n",
    "import matplotlib.pyplot as plt\n",
    "import seaborn as sns\n",
    "%matplotlib inline\n",
    "\n",
    "from sklearn.model_selection import train_test_split, KFold, GridSearchCV\n",
    "from sklearn.preprocessing import MinMaxScaler, Normalizer, StandardScaler\n",
    "from sklearn.linear_model import LinearRegression, LogisticRegression\n",
    "from sklearn.tree import DecisionTreeClassifier\n",
    "from sklearn.neural_network import MLPClassifier\n",
    "from sklearn.ensemble import AdaBoostClassifier, BaggingClassifier, ExtraTreesClassifier\n",
    "from sklearn.ensemble import GradientBoostingClassifier, RandomForestClassifier, VotingClassifier\n",
    "from sklearn.svm import SVC\n",
    "from sklearn.metrics import accuracy_score, classification_report, roc_curve\n",
    "from sklearn.metrics import make_scorer, confusion_matrix\n",
    "import xgboost as xgb"
   ]
  },
  {
   "cell_type": "code",
   "execution_count": 2,
   "metadata": {},
   "outputs": [
    {
     "name": "stdout",
     "output_type": "stream",
     "text": [
      "/nfs/science/shared/ipythonNotebooks/leom/Kaggle/Ynap-master/ynap_data\n"
     ]
    }
   ],
   "source": [
    "data_path = os.path.join(os.getcwd(), 'ynap_data')\n",
    "print(data_path)"
   ]
  },
  {
   "cell_type": "code",
   "execution_count": 3,
   "metadata": {},
   "outputs": [],
   "source": [
    "# os.listdir(data_path)"
   ]
  },
  {
   "cell_type": "code",
   "execution_count": 4,
   "metadata": {
    "collapsed": true
   },
   "outputs": [],
   "source": [
    "df_tot = pd.read_csv(os.path.join(data_path, 'df_tot_log.csv'))\n",
    "df_tot['var3'] = df_tot['var3'].astype('category')\n",
    "df_tot['var5'] = df_tot['var5'].astype('category')\n",
    "df_tot['var6'] = df_tot['var6'].astype('category')"
   ]
  },
  {
   "cell_type": "code",
   "execution_count": 5,
   "metadata": {},
   "outputs": [
    {
     "data": {
      "text/plain": [
       "(821, 23)"
      ]
     },
     "execution_count": 5,
     "metadata": {},
     "output_type": "execute_result"
    }
   ],
   "source": [
    "df_tot[df_tot['lapsed_next_period'] == 1].shape"
   ]
  },
  {
   "cell_type": "code",
   "execution_count": 7,
   "metadata": {
    "collapsed": true
   },
   "outputs": [],
   "source": [
    "# make dummies out of categorical variables\n",
    "dummy_idx = np.where(df_tot.dtypes == 'category')[0]\n",
    "df_dummies = pd.get_dummies(df_tot.iloc[:, dummy_idx])\n",
    "df = pd.concat([df_tot.drop(df_tot.iloc[:, dummy_idx].columns.values, axis=1), df_dummies], axis=1)"
   ]
  },
  {
   "cell_type": "code",
   "execution_count": 9,
   "metadata": {
    "collapsed": true
   },
   "outputs": [],
   "source": [
    "def column_finder(df, col, method=2):\n",
    "    if method == 1:\n",
    "        # method 1:\n",
    "        cols_as_string = ' '.join(df.columns.values)\n",
    "        cols_found = list(re.findall(col + '.*?\\ ', cols_as_string))\n",
    "        cols_found = [x.strip(' ') for x in cols_found]\n",
    "    elif method == 2:\n",
    "        # method 2:\n",
    "        cols_found = []\n",
    "        for col_elem in df.columns.values:\n",
    "            if col in col_elem:\n",
    "                cols_found.append(col_elem)\n",
    "    else:\n",
    "        raise ValueError\n",
    "            \n",
    "    return cols_found\n",
    "\n",
    "\n",
    "def column_remover(df, col_list, noprint=False):    \n",
    "    if type(col_list) != list:\n",
    "        cl = []\n",
    "        cl.append(col_list)\n",
    "        col_list =cl\n",
    "    \n",
    "    col_to_remove = []\n",
    "    for col in col_list:\n",
    "        #print(col)\n",
    "        col_to_remove.extend(column_finder(df, col, method=2))\n",
    "    \n",
    "    df.drop(col_to_remove, axis=1, inplace=True)\n",
    "    if not noprint:\n",
    "        print(col_to_remove)"
   ]
  },
  {
   "cell_type": "code",
   "execution_count": 12,
   "metadata": {},
   "outputs": [
    {
     "name": "stdout",
     "output_type": "stream",
     "text": [
      "['product_id', 'designer_id', 'gross_spend', 'item_bought', 'item_returned', 'ns_per_order', 'ir_per_order', 'gs_per_item']\n"
     ]
    }
   ],
   "source": [
    "# column_remover(df_tot, ['product_id', 'designer_id', '_1989' #, '_199001', '_199002'\n",
    "#                        ], noprint=True)\n",
    "\n",
    "columns_to_remove = ['product_id', 'designer_id', 'gross_spend', 'item_bought', 'item_returned',\n",
    "                                'ns_per_order', 'ir_per_order', 'gs_per_item']\n",
    "\n",
    "# columns_to_remove = ['product_id', 'designer_id']\n",
    "\n",
    "column_remover(df, columns_to_remove)\n",
    "# print(df_tot.columns.values)"
   ]
  },
  {
   "cell_type": "code",
   "execution_count": 13,
   "metadata": {},
   "outputs": [
    {
     "data": {
      "text/plain": [
       "array(['customer_id', 'var4', 'lapsed_next_period', 'order_id',\n",
       "       'product_type_id', 'net_spend', 'quote_spend_returned',\n",
       "       'quote_var1', 'quote_var2', 'gs_per_order', 'ib_per_order',\n",
       "       'ns_per_ib', 'var3_0.0', 'var3_1.0', 'var3_2.0', 'var3_3.0',\n",
       "       'var5_0.0', 'var5_1.0', 'var6_0.0', 'var6_1.0'], dtype=object)"
      ]
     },
     "execution_count": 13,
     "metadata": {},
     "output_type": "execute_result"
    }
   ],
   "source": [
    "df.columns.values"
   ]
  },
  {
   "cell_type": "code",
   "execution_count": 14,
   "metadata": {},
   "outputs": [
    {
     "data": {
      "text/plain": [
       "lapsed_next_period    1.000000\n",
       "order_id             -0.228204\n",
       "product_type_id      -0.180241\n",
       "net_spend            -0.191040\n",
       "Name: lapsed_next_period, dtype: float64"
      ]
     },
     "execution_count": 14,
     "metadata": {},
     "output_type": "execute_result"
    }
   ],
   "source": [
    "#df_tot.drop('customer_id', axis=1).corr().loc['lapsed_next_period'] # response not correlated with anything...\n",
    "\n",
    "corr1 = df.drop('customer_id', axis=1).corr()\n",
    "corr1[corr1.loc['lapsed_next_period'].apply(abs) > 0.15]['lapsed_next_period']\n",
    "# corr1.loc['lapsed_next_period']"
   ]
  },
  {
   "cell_type": "code",
   "execution_count": null,
   "metadata": {},
   "outputs": [],
   "source": [
    "# corr1"
   ]
  },
  {
   "cell_type": "markdown",
   "metadata": {},
   "source": [
    "### Data transformation"
   ]
  },
  {
   "cell_type": "code",
   "execution_count": null,
   "metadata": {
    "collapsed": true
   },
   "outputs": [],
   "source": [
    "def data_transformer(df, unchangeable_variables, method='std'):\n",
    "    if method == 'std':\n",
    "        scaler = StandardScaler().fit_transform(df.values)\n",
    "    elif method == 'minmax':\n",
    "        scaler = MinMaxScaler().fit_transform(df.values)\n",
    "    elif method == 'normal':\n",
    "        scaler = Normalizer().fit_transform(df.values)\n",
    "    else:\n",
    "        print('Method not recognized')\n",
    "        \n",
    "    df_transformed = pd.DataFrame(scaler, index=df.index, columns=df.columns)\n",
    "    if len(unchangeable_variables) > 0:\n",
    "        df_transformed[unchangeable_variables] = df[unchangeable_variables]\n",
    "    \n",
    "    return df_transformed"
   ]
  },
  {
   "cell_type": "code",
   "execution_count": null,
   "metadata": {
    "collapsed": true
   },
   "outputs": [],
   "source": [
    "df_minmax = data_transformer(df_tot, ['customer_id','lapsed_next_period'], 'minmax')\n",
    "# df_minmax.drop('customer_id', axis=1).corr().loc['lapsed_next_period']"
   ]
  },
  {
   "cell_type": "code",
   "execution_count": null,
   "metadata": {
    "collapsed": true
   },
   "outputs": [],
   "source": [
    "df_norm = data_transformer(df_tot, ['customer_id','lapsed_next_period'], 'normal')\n",
    "# df_norm.drop('customer_id', axis=1).corr().loc['lapsed_next_period']"
   ]
  },
  {
   "cell_type": "code",
   "execution_count": null,
   "metadata": {
    "collapsed": true
   },
   "outputs": [],
   "source": [
    "df_std = data_transformer(df_tot, ['customer_id','lapsed_next_period'], 'std')\n",
    "# df_std.drop('customer_id', axis=1).corr().loc['lapsed_next_period']"
   ]
  },
  {
   "cell_type": "markdown",
   "metadata": {},
   "source": [
    "Transformations don't seem to work. One reason could the high sproportion between 0s and 1s in the response variable.\n",
    "Let's try a balance method.\n",
    "\n",
    "## Balance\n",
    "Let's use the standard transformed data"
   ]
  },
  {
   "cell_type": "code",
   "execution_count": 15,
   "metadata": {
    "collapsed": true
   },
   "outputs": [],
   "source": [
    "df_for_model = df"
   ]
  },
  {
   "cell_type": "code",
   "execution_count": 16,
   "metadata": {},
   "outputs": [
    {
     "name": "stdout",
     "output_type": "stream",
     "text": [
      "(15695, 18)\n",
      "(15695, 2)\n"
     ]
    }
   ],
   "source": [
    "X = df_for_model.drop(['customer_id', 'lapsed_next_period'], axis=1)\n",
    "y = df_for_model[['customer_id', 'lapsed_next_period']]\n",
    "\n",
    "print(X.shape)\n",
    "print(y.shape)\n",
    "\n",
    "X_train, X_test, y_train, y_test = train_test_split(X, y, test_size=0.2, random_state=21)"
   ]
  },
  {
   "cell_type": "code",
   "execution_count": 17,
   "metadata": {},
   "outputs": [
    {
     "name": "stdout",
     "output_type": "stream",
     "text": [
      "(657, 18)\n",
      "(11899, 18)\n",
      "0.05232558139534884\n"
     ]
    }
   ],
   "source": [
    "X_train_1 = X_train.loc[y_train[y_train['lapsed_next_period'] == 1].index]\n",
    "X_train_0 = X_train.loc[y_train[y_train['lapsed_next_period'] == 0].index]\n",
    "\n",
    "print(X_train_1.shape)\n",
    "print(X_train_0.shape)\n",
    "print(X_train_1.shape[0]/X_train.shape[0])"
   ]
  },
  {
   "cell_type": "code",
   "execution_count": 18,
   "metadata": {},
   "outputs": [
    {
     "data": {
      "text/plain": [
       "0.052245938196877985"
      ]
     },
     "execution_count": 18,
     "metadata": {},
     "output_type": "execute_result"
    }
   ],
   "source": [
    "y_test[y_test['lapsed_next_period'] == 1].shape[0] / y_test.shape[0]"
   ]
  },
  {
   "cell_type": "code",
   "execution_count": 19,
   "metadata": {
    "collapsed": true
   },
   "outputs": [],
   "source": [
    "# try different balance ratios with a couple of easy models\n",
    "\n",
    "def balance_tester(Xtr0, Xtr1, ytr, Xte, yte, zero_quotas = [0.5, 0.66, 0.75], seeds = [21, 2121, 1212], \n",
    "                   method='log', method_params=None):\n",
    "    \n",
    "    if (method == 'rf') & (method_params == None):\n",
    "        # Random Forest parameters\n",
    "        rf_params_bal = {'n_jobs': -1, 'n_estimators': 500, 'warm_start': True, \n",
    "                         'max_depth': 4, 'min_samples_leaf': 2, 'max_features' : 'sqrt',\n",
    "                         'verbose': 0}\n",
    "    \n",
    "    results = pd.DataFrame(columns=['quota', 'accuracy', 'pred_perc', 'recall'])\n",
    "    \n",
    "    for quota in zero_quotas:\n",
    "        accuracy = []\n",
    "        pred_perc = []\n",
    "        recall = []\n",
    "        \n",
    "        n_sample = int(Xtr1.shape[0] * quota / (1 - quota) // 1)\n",
    "        \n",
    "        for seed in seeds:\n",
    "            Xtr0_ = Xtr0.sample(n=n_sample, random_state=seed)\n",
    "            Xtr_ = Xtr0_.append(Xtr1)\n",
    "            ytr_ = ytr.loc[Xtr_.index]\n",
    "            \n",
    "            if method == 'log':\n",
    "                clf = LogisticRegression(max_iter=100, solver='liblinear')\n",
    "            elif method == 'rf':\n",
    "                clf = RandomForestClassifier(**rf_params_bal)\n",
    "            else:\n",
    "                return 'Method not recognized'\n",
    "            \n",
    "            clf.fit(Xtr_, ytr_)\n",
    "            clf_pred = clf.predict(Xte)\n",
    "            cf = confusion_matrix(yte, clf_pred)\n",
    "            \n",
    "            pred_perc.append(clf_pred.sum()/len(clf_pred))\n",
    "            accuracy.append(accuracy_score(yte, clf_pred))\n",
    "            recall.append(cf[1, 1] / cf[1, :].sum())\n",
    "            \n",
    "            \n",
    "        # print(np.array(accuracy).mean())\n",
    "        acc_mean = np.array(accuracy).mean()\n",
    "        pp_mean = np.array(pred_perc).mean()\n",
    "        rec_mean = np.array(recall).mean()\n",
    "        \n",
    "        results = results.append(pd.Series({'quota': quota, 'accuracy': acc_mean,\n",
    "                                            'pred_perc': pp_mean, 'recall': rec_mean}),\n",
    "                                 ignore_index=True)\n",
    "    \n",
    "    return results\n",
    "            \n",
    "quotas = [0.5, 0.55, 0.6, 0.65, 0.7, 0.75, 0.8, 0.825, 0.85, 0.9]\n",
    "# quotas = [0.8, 0.805, 0.81, 0.815, 0.82, 0.825, 0.83, 0.835, 0.84, 0.845, 0.85]\n",
    "balance_res_rf = balance_tester(X_train_0, X_train_1, y_train['lapsed_next_period'], X_test, \n",
    "                                y_test['lapsed_next_period'], quotas, method='rf')\n",
    "\n",
    "balance_res_log = balance_tester(X_train_0, X_train_1, y_train['lapsed_next_period'], X_test, \n",
    "                                y_test['lapsed_next_period'], quotas, method='log')"
   ]
  },
  {
   "cell_type": "code",
   "execution_count": 20,
   "metadata": {},
   "outputs": [
    {
     "data": {
      "text/html": [
       "<div>\n",
       "<style>\n",
       "    .dataframe thead tr:only-child th {\n",
       "        text-align: right;\n",
       "    }\n",
       "\n",
       "    .dataframe thead th {\n",
       "        text-align: left;\n",
       "    }\n",
       "\n",
       "    .dataframe tbody tr th {\n",
       "        vertical-align: top;\n",
       "    }\n",
       "</style>\n",
       "<table border=\"1\" class=\"dataframe\">\n",
       "  <thead>\n",
       "    <tr style=\"text-align: right;\">\n",
       "      <th></th>\n",
       "      <th>quota</th>\n",
       "      <th>accuracy</th>\n",
       "      <th>pred_perc</th>\n",
       "      <th>recall</th>\n",
       "      <th>acc_recall</th>\n",
       "    </tr>\n",
       "  </thead>\n",
       "  <tbody>\n",
       "    <tr>\n",
       "      <th>0</th>\n",
       "      <td>0.500</td>\n",
       "      <td>0.724116</td>\n",
       "      <td>0.301795</td>\n",
       "      <td>0.747967</td>\n",
       "      <td>0.738427</td>\n",
       "    </tr>\n",
       "    <tr>\n",
       "      <th>1</th>\n",
       "      <td>0.550</td>\n",
       "      <td>0.762982</td>\n",
       "      <td>0.254646</td>\n",
       "      <td>0.668699</td>\n",
       "      <td>0.706412</td>\n",
       "    </tr>\n",
       "    <tr>\n",
       "      <th>2</th>\n",
       "      <td>0.600</td>\n",
       "      <td>0.800680</td>\n",
       "      <td>0.208453</td>\n",
       "      <td>0.587398</td>\n",
       "      <td>0.672711</td>\n",
       "    </tr>\n",
       "    <tr>\n",
       "      <th>3</th>\n",
       "      <td>0.650</td>\n",
       "      <td>0.831687</td>\n",
       "      <td>0.167675</td>\n",
       "      <td>0.493902</td>\n",
       "      <td>0.629016</td>\n",
       "    </tr>\n",
       "    <tr>\n",
       "      <th>4</th>\n",
       "      <td>0.700</td>\n",
       "      <td>0.862270</td>\n",
       "      <td>0.130721</td>\n",
       "      <td>0.432927</td>\n",
       "      <td>0.604664</td>\n",
       "    </tr>\n",
       "    <tr>\n",
       "      <th>5</th>\n",
       "      <td>0.750</td>\n",
       "      <td>0.892322</td>\n",
       "      <td>0.090050</td>\n",
       "      <td>0.331301</td>\n",
       "      <td>0.555709</td>\n",
       "    </tr>\n",
       "    <tr>\n",
       "      <th>6</th>\n",
       "      <td>0.800</td>\n",
       "      <td>0.912286</td>\n",
       "      <td>0.057131</td>\n",
       "      <td>0.207317</td>\n",
       "      <td>0.489305</td>\n",
       "    </tr>\n",
       "    <tr>\n",
       "      <th>7</th>\n",
       "      <td>0.825</td>\n",
       "      <td>0.920569</td>\n",
       "      <td>0.043751</td>\n",
       "      <td>0.158537</td>\n",
       "      <td>0.463350</td>\n",
       "    </tr>\n",
       "    <tr>\n",
       "      <th>8</th>\n",
       "      <td>0.850</td>\n",
       "      <td>0.930126</td>\n",
       "      <td>0.030583</td>\n",
       "      <td>0.123984</td>\n",
       "      <td>0.446441</td>\n",
       "    </tr>\n",
       "    <tr>\n",
       "      <th>9</th>\n",
       "      <td>0.900</td>\n",
       "      <td>0.944887</td>\n",
       "      <td>0.004991</td>\n",
       "      <td>0.020325</td>\n",
       "      <td>0.390150</td>\n",
       "    </tr>\n",
       "  </tbody>\n",
       "</table>\n",
       "</div>"
      ],
      "text/plain": [
       "   quota  accuracy  pred_perc    recall  acc_recall\n",
       "0  0.500  0.724116   0.301795  0.747967    0.738427\n",
       "1  0.550  0.762982   0.254646  0.668699    0.706412\n",
       "2  0.600  0.800680   0.208453  0.587398    0.672711\n",
       "3  0.650  0.831687   0.167675  0.493902    0.629016\n",
       "4  0.700  0.862270   0.130721  0.432927    0.604664\n",
       "5  0.750  0.892322   0.090050  0.331301    0.555709\n",
       "6  0.800  0.912286   0.057131  0.207317    0.489305\n",
       "7  0.825  0.920569   0.043751  0.158537    0.463350\n",
       "8  0.850  0.930126   0.030583  0.123984    0.446441\n",
       "9  0.900  0.944887   0.004991  0.020325    0.390150"
      ]
     },
     "execution_count": 20,
     "metadata": {},
     "output_type": "execute_result"
    }
   ],
   "source": [
    "balance_res_log['acc_recall'] = 0.4 * balance_res_log['accuracy'] + 0.6 * balance_res_log['recall']\n",
    "balance_res_log"
   ]
  },
  {
   "cell_type": "code",
   "execution_count": 21,
   "metadata": {},
   "outputs": [
    {
     "data": {
      "text/html": [
       "<div>\n",
       "<style>\n",
       "    .dataframe thead tr:only-child th {\n",
       "        text-align: right;\n",
       "    }\n",
       "\n",
       "    .dataframe thead th {\n",
       "        text-align: left;\n",
       "    }\n",
       "\n",
       "    .dataframe tbody tr th {\n",
       "        vertical-align: top;\n",
       "    }\n",
       "</style>\n",
       "<table border=\"1\" class=\"dataframe\">\n",
       "  <thead>\n",
       "    <tr style=\"text-align: right;\">\n",
       "      <th></th>\n",
       "      <th>quota</th>\n",
       "      <th>accuracy</th>\n",
       "      <th>pred_perc</th>\n",
       "      <th>recall</th>\n",
       "      <th>acc_recall</th>\n",
       "    </tr>\n",
       "  </thead>\n",
       "  <tbody>\n",
       "    <tr>\n",
       "      <th>0</th>\n",
       "      <td>0.500</td>\n",
       "      <td>0.737708</td>\n",
       "      <td>0.281406</td>\n",
       "      <td>0.682927</td>\n",
       "      <td>0.704839</td>\n",
       "    </tr>\n",
       "    <tr>\n",
       "      <th>1</th>\n",
       "      <td>0.550</td>\n",
       "      <td>0.775619</td>\n",
       "      <td>0.236275</td>\n",
       "      <td>0.613821</td>\n",
       "      <td>0.678540</td>\n",
       "    </tr>\n",
       "    <tr>\n",
       "      <th>2</th>\n",
       "      <td>0.600</td>\n",
       "      <td>0.803865</td>\n",
       "      <td>0.199958</td>\n",
       "      <td>0.536585</td>\n",
       "      <td>0.643497</td>\n",
       "    </tr>\n",
       "    <tr>\n",
       "      <th>3</th>\n",
       "      <td>0.650</td>\n",
       "      <td>0.832537</td>\n",
       "      <td>0.165764</td>\n",
       "      <td>0.483740</td>\n",
       "      <td>0.623259</td>\n",
       "    </tr>\n",
       "    <tr>\n",
       "      <th>4</th>\n",
       "      <td>0.700</td>\n",
       "      <td>0.865244</td>\n",
       "      <td>0.124774</td>\n",
       "      <td>0.404472</td>\n",
       "      <td>0.588780</td>\n",
       "    </tr>\n",
       "    <tr>\n",
       "      <th>5</th>\n",
       "      <td>0.750</td>\n",
       "      <td>0.895827</td>\n",
       "      <td>0.085059</td>\n",
       "      <td>0.317073</td>\n",
       "      <td>0.548575</td>\n",
       "    </tr>\n",
       "    <tr>\n",
       "      <th>6</th>\n",
       "      <td>0.800</td>\n",
       "      <td>0.931082</td>\n",
       "      <td>0.033025</td>\n",
       "      <td>0.156504</td>\n",
       "      <td>0.466335</td>\n",
       "    </tr>\n",
       "    <tr>\n",
       "      <th>7</th>\n",
       "      <td>0.825</td>\n",
       "      <td>0.940427</td>\n",
       "      <td>0.017734</td>\n",
       "      <td>0.099593</td>\n",
       "      <td>0.435927</td>\n",
       "    </tr>\n",
       "    <tr>\n",
       "      <th>8</th>\n",
       "      <td>0.850</td>\n",
       "      <td>0.946267</td>\n",
       "      <td>0.005522</td>\n",
       "      <td>0.038618</td>\n",
       "      <td>0.401678</td>\n",
       "    </tr>\n",
       "    <tr>\n",
       "      <th>9</th>\n",
       "      <td>0.900</td>\n",
       "      <td>0.947754</td>\n",
       "      <td>0.000000</td>\n",
       "      <td>0.000000</td>\n",
       "      <td>0.379102</td>\n",
       "    </tr>\n",
       "  </tbody>\n",
       "</table>\n",
       "</div>"
      ],
      "text/plain": [
       "   quota  accuracy  pred_perc    recall  acc_recall\n",
       "0  0.500  0.737708   0.281406  0.682927    0.704839\n",
       "1  0.550  0.775619   0.236275  0.613821    0.678540\n",
       "2  0.600  0.803865   0.199958  0.536585    0.643497\n",
       "3  0.650  0.832537   0.165764  0.483740    0.623259\n",
       "4  0.700  0.865244   0.124774  0.404472    0.588780\n",
       "5  0.750  0.895827   0.085059  0.317073    0.548575\n",
       "6  0.800  0.931082   0.033025  0.156504    0.466335\n",
       "7  0.825  0.940427   0.017734  0.099593    0.435927\n",
       "8  0.850  0.946267   0.005522  0.038618    0.401678\n",
       "9  0.900  0.947754   0.000000  0.000000    0.379102"
      ]
     },
     "execution_count": 21,
     "metadata": {},
     "output_type": "execute_result"
    }
   ],
   "source": [
    "balance_res_rf['acc_recall'] = 0.4 * balance_res_rf['accuracy'] + 0.6 * balance_res_rf['recall']\n",
    "balance_res_rf"
   ]
  },
  {
   "cell_type": "markdown",
   "metadata": {},
   "source": [
    "## Models\n",
    "\n",
    "My objective is to get the highest recall possibile. The overall accuracy doesn't fit for this problem, because classifying the right 1s has more importance than classifying everyone correctly, whether they are 0s or 1s.\n",
    "The recall measure is perfect for this problem. I want to have the highest percentage possible on classifying the customers I know are true 1s (in other words, I want to minimize the outcome set to 0 to those I know are 1), while I consider less important to have an error on those I classify 1 when they are actually 0.\n",
    "\n",
    "A basic proportion of 50% for not lapsed values seems to lead to good results. Let's use that for the GridSearch step."
   ]
  },
  {
   "cell_type": "code",
   "execution_count": 22,
   "metadata": {
    "collapsed": true
   },
   "outputs": [],
   "source": [
    "quota = 0.5\n",
    "n_sample = int(X_train_1.shape[0] * quota / (1 - quota) // 1)\n",
    "X_train_0_ = X_train_0.sample(n=n_sample, random_state=101)"
   ]
  },
  {
   "cell_type": "code",
   "execution_count": 23,
   "metadata": {},
   "outputs": [
    {
     "name": "stdout",
     "output_type": "stream",
     "text": [
      "(1314, 18)\n",
      "(1314, 2)\n"
     ]
    }
   ],
   "source": [
    "X_train_ = X_train_0_.append(X_train_1)\n",
    "print(X_train_.shape)\n",
    "\n",
    "y_train_ = y_train.loc[X_train_.index]\n",
    "print(y_train_.shape)"
   ]
  },
  {
   "cell_type": "code",
   "execution_count": 24,
   "metadata": {},
   "outputs": [
    {
     "data": {
      "text/plain": [
       "(164, 2)"
      ]
     },
     "execution_count": 24,
     "metadata": {},
     "output_type": "execute_result"
    }
   ],
   "source": [
    "y_test[y_test['lapsed_next_period'] == 1].shape"
   ]
  },
  {
   "cell_type": "code",
   "execution_count": 25,
   "metadata": {
    "collapsed": true
   },
   "outputs": [],
   "source": [
    "df_ = y_train_.join(X_train_)\n",
    "y_corr = df_.drop('customer_id', axis=1).corr().loc['lapsed_next_period']"
   ]
  },
  {
   "cell_type": "code",
   "execution_count": 26,
   "metadata": {},
   "outputs": [],
   "source": [
    "# model_cols = list(y_corr[y_corr.apply(lambda x: abs(x) > 0.15)].index.values)\n",
    "model_cols = list(X_train_.columns.values)\n",
    "# model_cols.remove('lapsed_next_period')"
   ]
  },
  {
   "cell_type": "code",
   "execution_count": 27,
   "metadata": {
    "scrolled": true
   },
   "outputs": [
    {
     "data": {
      "text/plain": [
       "['var4',\n",
       " 'order_id',\n",
       " 'product_type_id',\n",
       " 'net_spend',\n",
       " 'quote_spend_returned',\n",
       " 'quote_var1',\n",
       " 'quote_var2',\n",
       " 'gs_per_order',\n",
       " 'ib_per_order',\n",
       " 'ns_per_ib',\n",
       " 'var3_0.0',\n",
       " 'var3_1.0',\n",
       " 'var3_2.0',\n",
       " 'var3_3.0',\n",
       " 'var5_0.0',\n",
       " 'var5_1.0',\n",
       " 'var6_0.0',\n",
       " 'var6_1.0']"
      ]
     },
     "execution_count": 27,
     "metadata": {},
     "output_type": "execute_result"
    }
   ],
   "source": [
    "model_cols"
   ]
  },
  {
   "cell_type": "code",
   "execution_count": 28,
   "metadata": {},
   "outputs": [
    {
     "name": "stdout",
     "output_type": "stream",
     "text": [
      "0.737442922374\n"
     ]
    }
   ],
   "source": [
    "# Logistic Regression for feature selection\n",
    "log_test = LogisticRegression()\n",
    "log_test = log_test.fit(X_train_[model_cols], y_train_['lapsed_next_period'])\n",
    "score_log = log_test.score(X_train_[model_cols], y_train_['lapsed_next_period'])\n",
    "print(score_log)"
   ]
  },
  {
   "cell_type": "code",
   "execution_count": 29,
   "metadata": {},
   "outputs": [
    {
     "data": {
      "text/html": [
       "<div>\n",
       "<style>\n",
       "    .dataframe thead tr:only-child th {\n",
       "        text-align: right;\n",
       "    }\n",
       "\n",
       "    .dataframe thead th {\n",
       "        text-align: left;\n",
       "    }\n",
       "\n",
       "    .dataframe tbody tr th {\n",
       "        vertical-align: top;\n",
       "    }\n",
       "</style>\n",
       "<table border=\"1\" class=\"dataframe\">\n",
       "  <thead>\n",
       "    <tr style=\"text-align: right;\">\n",
       "      <th></th>\n",
       "      <th>0</th>\n",
       "      <th>1</th>\n",
       "    </tr>\n",
       "  </thead>\n",
       "  <tbody>\n",
       "    <tr>\n",
       "      <th>0</th>\n",
       "      <td>var4</td>\n",
       "      <td>[-0.0566413229487]</td>\n",
       "    </tr>\n",
       "    <tr>\n",
       "      <th>1</th>\n",
       "      <td>order_id</td>\n",
       "      <td>[-0.809969788516]</td>\n",
       "    </tr>\n",
       "    <tr>\n",
       "      <th>2</th>\n",
       "      <td>product_type_id</td>\n",
       "      <td>[-0.022418823623]</td>\n",
       "    </tr>\n",
       "    <tr>\n",
       "      <th>3</th>\n",
       "      <td>net_spend</td>\n",
       "      <td>[-0.0763324628972]</td>\n",
       "    </tr>\n",
       "    <tr>\n",
       "      <th>4</th>\n",
       "      <td>quote_spend_returned</td>\n",
       "      <td>[-1.37913763766]</td>\n",
       "    </tr>\n",
       "    <tr>\n",
       "      <th>5</th>\n",
       "      <td>quote_var1</td>\n",
       "      <td>[0.0611310977907]</td>\n",
       "    </tr>\n",
       "    <tr>\n",
       "      <th>6</th>\n",
       "      <td>quote_var2</td>\n",
       "      <td>[-0.0517798271361]</td>\n",
       "    </tr>\n",
       "    <tr>\n",
       "      <th>7</th>\n",
       "      <td>gs_per_order</td>\n",
       "      <td>[0.651419067133]</td>\n",
       "    </tr>\n",
       "    <tr>\n",
       "      <th>8</th>\n",
       "      <td>ib_per_order</td>\n",
       "      <td>[-0.406952424115]</td>\n",
       "    </tr>\n",
       "    <tr>\n",
       "      <th>9</th>\n",
       "      <td>ns_per_ib</td>\n",
       "      <td>[-0.544371558201]</td>\n",
       "    </tr>\n",
       "    <tr>\n",
       "      <th>10</th>\n",
       "      <td>var3_0.0</td>\n",
       "      <td>[0.101382556824]</td>\n",
       "    </tr>\n",
       "    <tr>\n",
       "      <th>11</th>\n",
       "      <td>var3_1.0</td>\n",
       "      <td>[0.529264997992]</td>\n",
       "    </tr>\n",
       "    <tr>\n",
       "      <th>12</th>\n",
       "      <td>var3_2.0</td>\n",
       "      <td>[0.385585564184]</td>\n",
       "    </tr>\n",
       "    <tr>\n",
       "      <th>13</th>\n",
       "      <td>var3_3.0</td>\n",
       "      <td>[0.249219428936]</td>\n",
       "    </tr>\n",
       "    <tr>\n",
       "      <th>14</th>\n",
       "      <td>var5_0.0</td>\n",
       "      <td>[0.889824854598]</td>\n",
       "    </tr>\n",
       "    <tr>\n",
       "      <th>15</th>\n",
       "      <td>var5_1.0</td>\n",
       "      <td>[0.375627693338]</td>\n",
       "    </tr>\n",
       "    <tr>\n",
       "      <th>16</th>\n",
       "      <td>var6_0.0</td>\n",
       "      <td>[0.491852847868]</td>\n",
       "    </tr>\n",
       "    <tr>\n",
       "      <th>17</th>\n",
       "      <td>var6_1.0</td>\n",
       "      <td>[0.773599700068]</td>\n",
       "    </tr>\n",
       "  </tbody>\n",
       "</table>\n",
       "</div>"
      ],
      "text/plain": [
       "                       0                   1\n",
       "0                   var4  [-0.0566413229487]\n",
       "1               order_id   [-0.809969788516]\n",
       "2        product_type_id   [-0.022418823623]\n",
       "3              net_spend  [-0.0763324628972]\n",
       "4   quote_spend_returned    [-1.37913763766]\n",
       "5             quote_var1   [0.0611310977907]\n",
       "6             quote_var2  [-0.0517798271361]\n",
       "7           gs_per_order    [0.651419067133]\n",
       "8           ib_per_order   [-0.406952424115]\n",
       "9              ns_per_ib   [-0.544371558201]\n",
       "10              var3_0.0    [0.101382556824]\n",
       "11              var3_1.0    [0.529264997992]\n",
       "12              var3_2.0    [0.385585564184]\n",
       "13              var3_3.0    [0.249219428936]\n",
       "14              var5_0.0    [0.889824854598]\n",
       "15              var5_1.0    [0.375627693338]\n",
       "16              var6_0.0    [0.491852847868]\n",
       "17              var6_1.0    [0.773599700068]"
      ]
     },
     "execution_count": 29,
     "metadata": {},
     "output_type": "execute_result"
    }
   ],
   "source": [
    "pd.DataFrame(list(zip(X_train_[model_cols].columns, np.transpose(log_test.coef_))))"
   ]
  },
  {
   "cell_type": "markdown",
   "metadata": {},
   "source": [
    "*product_type_id* seems not really effective as a predictor."
   ]
  },
  {
   "cell_type": "code",
   "execution_count": 32,
   "metadata": {},
   "outputs": [
    {
     "ename": "ValueError",
     "evalue": "list.remove(x): x not in list",
     "output_type": "error",
     "traceback": [
      "\u001b[0;31m---------------------------------------------------------------------------\u001b[0m",
      "\u001b[0;31mValueError\u001b[0m                                Traceback (most recent call last)",
      "\u001b[0;32m<ipython-input-32-6ab687aded8e>\u001b[0m in \u001b[0;36m<module>\u001b[0;34m()\u001b[0m\n\u001b[0;32m----> 1\u001b[0;31m \u001b[0mmodel_cols\u001b[0m\u001b[0;34m.\u001b[0m\u001b[0mremove\u001b[0m\u001b[0;34m(\u001b[0m\u001b[0;34m'product_type_id'\u001b[0m\u001b[0;34m)\u001b[0m\u001b[0;34m\u001b[0m\u001b[0m\n\u001b[0m",
      "\u001b[0;31mValueError\u001b[0m: list.remove(x): x not in list"
     ]
    }
   ],
   "source": [
    "model_cols.remove('product_type_id')"
   ]
  },
  {
   "cell_type": "code",
   "execution_count": 33,
   "metadata": {},
   "outputs": [
    {
     "data": {
      "text/plain": [
       "['var4',\n",
       " 'order_id',\n",
       " 'net_spend',\n",
       " 'quote_spend_returned',\n",
       " 'quote_var1',\n",
       " 'quote_var2',\n",
       " 'gs_per_order',\n",
       " 'ib_per_order',\n",
       " 'ns_per_ib',\n",
       " 'var3_0.0',\n",
       " 'var3_1.0',\n",
       " 'var3_2.0',\n",
       " 'var3_3.0',\n",
       " 'var5_0.0',\n",
       " 'var5_1.0',\n",
       " 'var6_0.0',\n",
       " 'var6_1.0']"
      ]
     },
     "execution_count": 33,
     "metadata": {},
     "output_type": "execute_result"
    }
   ],
   "source": [
    "model_cols"
   ]
  },
  {
   "cell_type": "code",
   "execution_count": 34,
   "metadata": {},
   "outputs": [
    {
     "name": "stdout",
     "output_type": "stream",
     "text": [
      "0.730593607306\n"
     ]
    }
   ],
   "source": [
    "# REPEAT Logistic Regression for feature selection\n",
    "log_test = LogisticRegression()\n",
    "log_test = log_test.fit(X_train_[model_cols], y_train_['lapsed_next_period'])\n",
    "score_log = log_test.score(X_train_[model_cols], y_train_['lapsed_next_period'])\n",
    "print(score_log)"
   ]
  },
  {
   "cell_type": "code",
   "execution_count": 35,
   "metadata": {},
   "outputs": [
    {
     "data": {
      "text/html": [
       "<div>\n",
       "<style>\n",
       "    .dataframe thead tr:only-child th {\n",
       "        text-align: right;\n",
       "    }\n",
       "\n",
       "    .dataframe thead th {\n",
       "        text-align: left;\n",
       "    }\n",
       "\n",
       "    .dataframe tbody tr th {\n",
       "        vertical-align: top;\n",
       "    }\n",
       "</style>\n",
       "<table border=\"1\" class=\"dataframe\">\n",
       "  <thead>\n",
       "    <tr style=\"text-align: right;\">\n",
       "      <th></th>\n",
       "      <th>0</th>\n",
       "      <th>1</th>\n",
       "    </tr>\n",
       "  </thead>\n",
       "  <tbody>\n",
       "    <tr>\n",
       "      <th>0</th>\n",
       "      <td>var4</td>\n",
       "      <td>[-0.0592772334508]</td>\n",
       "    </tr>\n",
       "    <tr>\n",
       "      <th>1</th>\n",
       "      <td>order_id</td>\n",
       "      <td>[-0.918768681656]</td>\n",
       "    </tr>\n",
       "    <tr>\n",
       "      <th>2</th>\n",
       "      <td>net_spend</td>\n",
       "      <td>[-0.138552454757]</td>\n",
       "    </tr>\n",
       "    <tr>\n",
       "      <th>3</th>\n",
       "      <td>quote_spend_returned</td>\n",
       "      <td>[-1.47756606124]</td>\n",
       "    </tr>\n",
       "    <tr>\n",
       "      <th>4</th>\n",
       "      <td>quote_var1</td>\n",
       "      <td>[0.0605165529204]</td>\n",
       "    </tr>\n",
       "    <tr>\n",
       "      <th>5</th>\n",
       "      <td>quote_var2</td>\n",
       "      <td>[-0.0595461000229]</td>\n",
       "    </tr>\n",
       "    <tr>\n",
       "      <th>6</th>\n",
       "      <td>gs_per_order</td>\n",
       "      <td>[0.649979268231]</td>\n",
       "    </tr>\n",
       "    <tr>\n",
       "      <th>7</th>\n",
       "      <td>ib_per_order</td>\n",
       "      <td>[-0.507817358798]</td>\n",
       "    </tr>\n",
       "    <tr>\n",
       "      <th>8</th>\n",
       "      <td>ns_per_ib</td>\n",
       "      <td>[-0.411519872854]</td>\n",
       "    </tr>\n",
       "    <tr>\n",
       "      <th>9</th>\n",
       "      <td>var3_0.0</td>\n",
       "      <td>[0.118876260841]</td>\n",
       "    </tr>\n",
       "    <tr>\n",
       "      <th>10</th>\n",
       "      <td>var3_1.0</td>\n",
       "      <td>[0.546636901413]</td>\n",
       "    </tr>\n",
       "    <tr>\n",
       "      <th>11</th>\n",
       "      <td>var3_2.0</td>\n",
       "      <td>[0.409958713536]</td>\n",
       "    </tr>\n",
       "    <tr>\n",
       "      <th>12</th>\n",
       "      <td>var3_3.0</td>\n",
       "      <td>[0.27244024269]</td>\n",
       "    </tr>\n",
       "    <tr>\n",
       "      <th>13</th>\n",
       "      <td>var5_0.0</td>\n",
       "      <td>[0.941264677942]</td>\n",
       "    </tr>\n",
       "    <tr>\n",
       "      <th>14</th>\n",
       "      <td>var5_1.0</td>\n",
       "      <td>[0.406647440539]</td>\n",
       "    </tr>\n",
       "    <tr>\n",
       "      <th>15</th>\n",
       "      <td>var6_0.0</td>\n",
       "      <td>[0.533008867834]</td>\n",
       "    </tr>\n",
       "    <tr>\n",
       "      <th>16</th>\n",
       "      <td>var6_1.0</td>\n",
       "      <td>[0.814903250646]</td>\n",
       "    </tr>\n",
       "  </tbody>\n",
       "</table>\n",
       "</div>"
      ],
      "text/plain": [
       "                       0                   1\n",
       "0                   var4  [-0.0592772334508]\n",
       "1               order_id   [-0.918768681656]\n",
       "2              net_spend   [-0.138552454757]\n",
       "3   quote_spend_returned    [-1.47756606124]\n",
       "4             quote_var1   [0.0605165529204]\n",
       "5             quote_var2  [-0.0595461000229]\n",
       "6           gs_per_order    [0.649979268231]\n",
       "7           ib_per_order   [-0.507817358798]\n",
       "8              ns_per_ib   [-0.411519872854]\n",
       "9               var3_0.0    [0.118876260841]\n",
       "10              var3_1.0    [0.546636901413]\n",
       "11              var3_2.0    [0.409958713536]\n",
       "12              var3_3.0     [0.27244024269]\n",
       "13              var5_0.0    [0.941264677942]\n",
       "14              var5_1.0    [0.406647440539]\n",
       "15              var6_0.0    [0.533008867834]\n",
       "16              var6_1.0    [0.814903250646]"
      ]
     },
     "execution_count": 35,
     "metadata": {},
     "output_type": "execute_result"
    }
   ],
   "source": [
    "pd.DataFrame(list(zip(X_train_[model_cols].columns, np.transpose(log_test.coef_))))"
   ]
  },
  {
   "cell_type": "code",
   "execution_count": 36,
   "metadata": {},
   "outputs": [
    {
     "name": "stdout",
     "output_type": "stream",
     "text": [
      "0.300095571838\n",
      "0.721567378146\n"
     ]
    }
   ],
   "source": [
    "# Random Forest example\n",
    "rf_params = {\n",
    "    'n_jobs': -1,\n",
    "    'n_estimators': 200,\n",
    "     'warm_start': True, \n",
    "     #'max_features': 0.2,\n",
    "    'max_depth': 4,\n",
    "    'min_samples_leaf': 4,\n",
    "    'max_features' : 'sqrt',\n",
    "    'verbose': 0\n",
    "}\n",
    "\n",
    "rf = RandomForestClassifier(**rf_params)\n",
    "rf.fit(X_train_[model_cols], y_train_['lapsed_next_period'])\n",
    "\n",
    "rf_pred = rf.predict(X_test[model_cols])\n",
    "\n",
    "print(rf_pred.sum()/len(rf_pred))\n",
    "\n",
    "print(accuracy_score(y_test['lapsed_next_period'], rf_pred))"
   ]
  },
  {
   "cell_type": "code",
   "execution_count": 37,
   "metadata": {
    "scrolled": true
   },
   "outputs": [
    {
     "data": {
      "text/plain": [
       "0.70731707317073167"
      ]
     },
     "execution_count": 37,
     "metadata": {},
     "output_type": "execute_result"
    }
   ],
   "source": [
    "cf = confusion_matrix(y_test['lapsed_next_period'], rf_pred)\n",
    "cf[1,1]/cf[1,:].sum()"
   ]
  },
  {
   "cell_type": "code",
   "execution_count": 38,
   "metadata": {
    "collapsed": true
   },
   "outputs": [],
   "source": [
    "def right_classification(y_true, y_pred):\n",
    "    cf = confusion_matrix(y_true, y_pred)\n",
    "    return cf[1, 1] / cf[1, :].sum()"
   ]
  },
  {
   "cell_type": "code",
   "execution_count": 39,
   "metadata": {
    "collapsed": true
   },
   "outputs": [],
   "source": [
    "# Setting multiple hyperparameters for every classifier we are going to implement\n",
    "\n",
    "# Random Forest\n",
    "rf_params_gs = {\n",
    "    'n_jobs': [-1],\n",
    "    'n_estimators': [150, 175, 200, 225 , 250, 275], #300, 350, 400, 500],\n",
    "    'warm_start': [True], \n",
    "     #'max_features': 0.2,\n",
    "    'max_depth': [2, 3, 4], # 5, 6],\n",
    "    'min_samples_leaf': [4, 5, 6], #[2, 3]\n",
    "    'max_features' : ['sqrt'],\n",
    "    'verbose': [0]\n",
    "}\n",
    "\n",
    "# Extra Trees\n",
    "et_params_gs = {\n",
    "    'n_jobs': [-1],\n",
    "    'n_estimators': [500, 550, 600],\n",
    "    'max_depth': [6, 7, 8],\n",
    "    'min_samples_leaf': [2, 3, 4],\n",
    "    'verbose': [0]\n",
    "}\n",
    "\n",
    "# AdaBoost parameters\n",
    "ada_params_gs = {\n",
    "    'n_estimators': [150, 200, 250, 300],\n",
    "    'learning_rate': [1e-3, 0.01, 0.05, 0.1]\n",
    "}\n",
    "\n",
    "# Gradient Boosting parameters\n",
    "gb_params_gs = {\n",
    "    'n_estimators': [150, 200, 250, 300],\n",
    "    'max_depth': [2, 3, 4, 5],\n",
    "    'min_samples_leaf': [4, 5, 6],\n",
    "    'verbose': [0]\n",
    "}\n",
    "\n",
    "# SVC parameters\n",
    "svc_params_gs = {\n",
    "    'kernel': ['linear', 'rbf'],\n",
    "    'C': [1e-4, 1e-3, 0.01, 0.05]\n",
    "}\n",
    "\n",
    "# Logistic regression parameters\n",
    "log_params_gs = {\n",
    "    'solver': ['liblinear'],\n",
    "    'max_iter': [100, 200, 300],\n",
    "    'verbose': [0]\n",
    "}\n",
    "\n",
    "# XGBoosting parameters\n",
    "xgb_params_gs = {\n",
    "    'objective':['binary:logistic'],\n",
    "    'learning_rate': [1e-4, 1e-3, 5e-3, 0.01], #so called `eta` value\n",
    "    'max_depth': [4, 5, 6],\n",
    "    'min_child_weight': [11],\n",
    "    'silent': [1],\n",
    "    'subsample': [0.8],\n",
    "    'colsample_bytree': [0.7],\n",
    "    'n_estimators': [200, 400, 600, 800, 1000], #number of trees, change it to 1000 for better results\n",
    "    'missing':[-999]\n",
    "}"
   ]
  },
  {
   "cell_type": "code",
   "execution_count": 40,
   "metadata": {
    "collapsed": true
   },
   "outputs": [],
   "source": [
    "scoring = {'right_class': make_scorer(right_classification)}"
   ]
  },
  {
   "cell_type": "code",
   "execution_count": 41,
   "metadata": {
    "collapsed": true
   },
   "outputs": [],
   "source": [
    "# Istantiate the classifiers\n",
    "rf = GridSearchCV(RandomForestClassifier(), rf_params_gs, cv=5, scoring=scoring, refit='right_class')\n",
    "et = GridSearchCV(ExtraTreesClassifier(), et_params_gs, cv=5, scoring=scoring, refit='right_class')\n",
    "ada = GridSearchCV(AdaBoostClassifier(), ada_params_gs, cv=5, scoring=scoring, refit='right_class')\n",
    "gb = GridSearchCV(GradientBoostingClassifier(), gb_params_gs, cv=5, scoring=scoring, refit='right_class')\n",
    "svc = GridSearchCV(SVC(), svc_params_gs, cv=5, scoring=scoring, refit='right_class')\n",
    "log = GridSearchCV(LogisticRegression(), log_params_gs, cv=5, scoring=scoring, refit='right_class')\n",
    "xgbm = GridSearchCV(xgb.XGBClassifier(), xgb_params_gs, cv=5, scoring=scoring, refit='right_class')"
   ]
  },
  {
   "cell_type": "code",
   "execution_count": 42,
   "metadata": {
    "collapsed": true
   },
   "outputs": [],
   "source": [
    "def classifier_runner(clf, Xtr, ytr, Xte, yte):\n",
    "    print('-'*40)\n",
    "    print(clf.estimator)\n",
    "    print('-'*40)\n",
    "    clf.fit(Xtr, ytr)\n",
    "    clf.best_params_\n",
    "    print(clf.best_params_)\n",
    "    \n",
    "    print()\n",
    "    \n",
    "#     means = clf.cv_results_['mean_test_score']\n",
    "#     stds = clf.cv_results_['std_test_score']\n",
    "#     for mean, std, params in zip(means, stds, clf.cv_results_['params']):\n",
    "#         print(\"%0.3f (+/-%0.03f) for %r\" % (mean, std*2, params))\n",
    "        \n",
    "    print()\n",
    "    y_true, y_pred = yte, clf.predict(Xte)\n",
    "    print(classification_report(y_true, y_pred))\n",
    "    print(accuracy_score(y_true, y_pred))\n",
    "    print(confusion_matrix(y_true, y_pred))\n",
    "    print(right_classification(y_true, y_pred))\n",
    "    \n",
    "    return clf, y_pred"
   ]
  },
  {
   "cell_type": "code",
   "execution_count": 43,
   "metadata": {
    "scrolled": true
   },
   "outputs": [
    {
     "name": "stdout",
     "output_type": "stream",
     "text": [
      "----------------------------------------\n",
      "RandomForestClassifier(bootstrap=True, class_weight=None, criterion='gini',\n",
      "            max_depth=None, max_features='auto', max_leaf_nodes=None,\n",
      "            min_impurity_decrease=0.0, min_impurity_split=None,\n",
      "            min_samples_leaf=1, min_samples_split=2,\n",
      "            min_weight_fraction_leaf=0.0, n_estimators=10, n_jobs=1,\n",
      "            oob_score=False, random_state=None, verbose=0,\n",
      "            warm_start=False)\n",
      "----------------------------------------\n",
      "{'max_depth': 4, 'n_jobs': -1, 'warm_start': True, 'verbose': 0, 'min_samples_leaf': 5, 'max_features': 'sqrt', 'n_estimators': 200}\n",
      "\n",
      "\n",
      "             precision    recall  f1-score   support\n",
      "\n",
      "          0       0.98      0.73      0.83      2975\n",
      "          1       0.12      0.70      0.21       164\n",
      "\n",
      "avg / total       0.93      0.73      0.80      3139\n",
      "\n",
      "0.72602739726\n",
      "[[2165  810]\n",
      " [  50  114]]\n",
      "0.69512195122\n"
     ]
    }
   ],
   "source": [
    "rf_clf, rf_ypred = classifier_runner(rf, X_train_[model_cols], y_train_['lapsed_next_period'],\n",
    "                                      X_test[model_cols], y_test['lapsed_next_period'])"
   ]
  },
  {
   "cell_type": "code",
   "execution_count": 44,
   "metadata": {},
   "outputs": [
    {
     "name": "stdout",
     "output_type": "stream",
     "text": [
      "----------------------------------------\n",
      "ExtraTreesClassifier(bootstrap=False, class_weight=None, criterion='gini',\n",
      "           max_depth=None, max_features='auto', max_leaf_nodes=None,\n",
      "           min_impurity_decrease=0.0, min_impurity_split=None,\n",
      "           min_samples_leaf=1, min_samples_split=2,\n",
      "           min_weight_fraction_leaf=0.0, n_estimators=10, n_jobs=1,\n",
      "           oob_score=False, random_state=None, verbose=0, warm_start=False)\n",
      "----------------------------------------\n",
      "{'min_samples_leaf': 4, 'max_depth': 7, 'verbose': 0, 'n_jobs': -1, 'n_estimators': 500}\n",
      "\n",
      "\n",
      "             precision    recall  f1-score   support\n",
      "\n",
      "          0       0.98      0.72      0.83      2975\n",
      "          1       0.12      0.71      0.21       164\n",
      "\n",
      "avg / total       0.93      0.72      0.80      3139\n",
      "\n",
      "0.718381650207\n",
      "[[2139  836]\n",
      " [  48  116]]\n",
      "0.707317073171\n"
     ]
    }
   ],
   "source": [
    "et_clf, et_ypred = classifier_runner(et, X_train_[model_cols], y_train_['lapsed_next_period'],\n",
    "                                      X_test[model_cols], y_test['lapsed_next_period'])"
   ]
  },
  {
   "cell_type": "code",
   "execution_count": 45,
   "metadata": {
    "scrolled": true
   },
   "outputs": [
    {
     "name": "stdout",
     "output_type": "stream",
     "text": [
      "----------------------------------------\n",
      "AdaBoostClassifier(algorithm='SAMME.R', base_estimator=None,\n",
      "          learning_rate=1.0, n_estimators=50, random_state=None)\n",
      "----------------------------------------\n",
      "{'learning_rate': 0.05, 'n_estimators': 200}\n",
      "\n",
      "\n",
      "             precision    recall  f1-score   support\n",
      "\n",
      "          0       0.98      0.71      0.82      2975\n",
      "          1       0.12      0.73      0.21       164\n",
      "\n",
      "avg / total       0.93      0.71      0.79      3139\n",
      "\n",
      "0.712965912711\n",
      "[[2119  856]\n",
      " [  45  119]]\n",
      "0.725609756098\n"
     ]
    }
   ],
   "source": [
    "ada_clf, ada_ypred = classifier_runner(ada, X_train_[model_cols], y_train_['lapsed_next_period'],\n",
    "                                        X_test[model_cols], y_test['lapsed_next_period'])"
   ]
  },
  {
   "cell_type": "code",
   "execution_count": 46,
   "metadata": {},
   "outputs": [
    {
     "name": "stdout",
     "output_type": "stream",
     "text": [
      "----------------------------------------\n",
      "GradientBoostingClassifier(criterion='friedman_mse', init=None,\n",
      "              learning_rate=0.1, loss='deviance', max_depth=3,\n",
      "              max_features=None, max_leaf_nodes=None,\n",
      "              min_impurity_decrease=0.0, min_impurity_split=None,\n",
      "              min_samples_leaf=1, min_samples_split=2,\n",
      "              min_weight_fraction_leaf=0.0, n_estimators=100,\n",
      "              presort='auto', random_state=None, subsample=1.0, verbose=0,\n",
      "              warm_start=False)\n",
      "----------------------------------------\n",
      "{'min_samples_leaf': 5, 'max_depth': 2, 'verbose': 0, 'n_estimators': 200}\n",
      "\n",
      "\n",
      "             precision    recall  f1-score   support\n",
      "\n",
      "          0       0.98      0.70      0.81      2975\n",
      "          1       0.12      0.74      0.20       164\n",
      "\n",
      "avg / total       0.93      0.70      0.78      3139\n",
      "\n",
      "0.698630136986\n",
      "[[2072  903]\n",
      " [  43  121]]\n",
      "0.737804878049\n"
     ]
    }
   ],
   "source": [
    "gb_clf, gb_ypred = classifier_runner(gb, X_train_, y_train_['lapsed_next_period'], X_test, y_test['lapsed_next_period'])"
   ]
  },
  {
   "cell_type": "code",
   "execution_count": 47,
   "metadata": {
    "scrolled": false
   },
   "outputs": [
    {
     "name": "stdout",
     "output_type": "stream",
     "text": [
      "----------------------------------------\n",
      "SVC(C=1.0, cache_size=200, class_weight=None, coef0=0.0,\n",
      "  decision_function_shape='ovr', degree=3, gamma='auto', kernel='rbf',\n",
      "  max_iter=-1, probability=False, random_state=None, shrinking=True,\n",
      "  tol=0.001, verbose=False)\n",
      "----------------------------------------\n",
      "{'C': 0.0001, 'kernel': 'linear'}\n",
      "\n",
      "\n",
      "             precision    recall  f1-score   support\n",
      "\n",
      "          0       0.98      0.62      0.76      2975\n",
      "          1       0.09      0.72      0.17       164\n",
      "\n",
      "avg / total       0.93      0.62      0.73      3139\n",
      "\n",
      "0.622809812042\n",
      "[[1837 1138]\n",
      " [  46  118]]\n",
      "0.719512195122\n"
     ]
    }
   ],
   "source": [
    "svc_clf, svc_ypred = classifier_runner(svc, X_train_, y_train_['lapsed_next_period'], X_test, y_test['lapsed_next_period'])"
   ]
  },
  {
   "cell_type": "code",
   "execution_count": 48,
   "metadata": {
    "scrolled": true
   },
   "outputs": [
    {
     "name": "stdout",
     "output_type": "stream",
     "text": [
      "----------------------------------------\n",
      "LogisticRegression(C=1.0, class_weight=None, dual=False, fit_intercept=True,\n",
      "          intercept_scaling=1, max_iter=100, multi_class='ovr', n_jobs=1,\n",
      "          penalty='l2', random_state=None, solver='liblinear', tol=0.0001,\n",
      "          verbose=0, warm_start=False)\n",
      "----------------------------------------\n",
      "{'verbose': 0, 'max_iter': 100, 'solver': 'liblinear'}\n",
      "\n",
      "\n",
      "             precision    recall  f1-score   support\n",
      "\n",
      "          0       0.98      0.72      0.83      2975\n",
      "          1       0.13      0.73      0.21       164\n",
      "\n",
      "avg / total       0.93      0.72      0.80      3139\n",
      "\n",
      "0.722204523734\n",
      "[[2148  827]\n",
      " [  45  119]]\n",
      "0.725609756098\n"
     ]
    }
   ],
   "source": [
    "log_clf, log_ypred =classifier_runner(log, X_train_[model_cols], y_train_['lapsed_next_period'], X_test[model_cols], y_test['lapsed_next_period'])"
   ]
  },
  {
   "cell_type": "code",
   "execution_count": 49,
   "metadata": {
    "scrolled": true
   },
   "outputs": [
    {
     "name": "stdout",
     "output_type": "stream",
     "text": [
      "----------------------------------------\n",
      "XGBClassifier(base_score=0.5, booster='gbtree', colsample_bylevel=1,\n",
      "       colsample_bytree=1, gamma=0, learning_rate=0.1, max_delta_step=0,\n",
      "       max_depth=3, min_child_weight=1, missing=None, n_estimators=100,\n",
      "       n_jobs=1, nthread=None, objective='binary:logistic', random_state=0,\n",
      "       reg_alpha=0, reg_lambda=1, scale_pos_weight=1, seed=None,\n",
      "       silent=True, subsample=1)\n",
      "----------------------------------------\n",
      "{'objective': 'binary:logistic', 'max_depth': 5, 'learning_rate': 0.01, 'missing': -999, 'silent': 1, 'subsample': 0.8, 'colsample_bytree': 0.7, 'min_child_weight': 11, 'n_estimators': 400}\n",
      "\n",
      "\n",
      "             precision    recall  f1-score   support\n",
      "\n",
      "          0       0.98      0.71      0.82      2975\n",
      "          1       0.12      0.71      0.20       164\n",
      "\n",
      "avg / total       0.93      0.71      0.79      3139\n",
      "\n",
      "0.706594456833\n",
      "[[2102  873]\n",
      " [  48  116]]\n",
      "0.707317073171\n"
     ]
    }
   ],
   "source": [
    "xgbm_clf, xgbm_ypred = classifier_runner(xgbm, X_train_[model_cols], y_train_['lapsed_next_period'], X_test[model_cols], y_test['lapsed_next_period'])"
   ]
  },
  {
   "cell_type": "markdown",
   "metadata": {},
   "source": [
    "### Feature importances"
   ]
  },
  {
   "cell_type": "code",
   "execution_count": 66,
   "metadata": {},
   "outputs": [],
   "source": [
    "class SklearnHelper(object):\n",
    "    def __init__(self, clf, seed=0, params=None):\n",
    "        params['random_state'] = seed\n",
    "        self.clf = clf(**params)\n",
    "\n",
    "    def train(self, x_train, y_train):\n",
    "        self.clf.fit(x_train, y_train)\n",
    "\n",
    "    def predict(self, x):\n",
    "        return self.clf.predict(x)\n",
    "    \n",
    "    def fit(self,x,y):\n",
    "        return self.clf.fit(x,y)\n",
    "    \n",
    "rf_best = SklearnHelper(clf=RandomForestClassifier, params=rf_clf.best_params_)\n",
    "et_best = SklearnHelper(clf=ExtraTreesClassifier, params=et_clf.best_params_)\n",
    "ada_best = SklearnHelper(clf=AdaBoostClassifier, params=ada_clf.best_params_)\n",
    "gb_best = SklearnHelper(clf=GradientBoostingClassifier, params=gb_clf.best_params_)\n",
    "svc_best = SklearnHelper(clf=SVC, params=svc_clf.best_params_)\n",
    "log_best = SklearnHelper(clf=LogisticRegression, params=log_clf.best_params_)\n",
    "xgbm_best = SklearnHelper(clf=xgb.XGBClassifier, params=xgbm_clf.best_params_)"
   ]
  },
  {
   "cell_type": "code",
   "execution_count": 67,
   "metadata": {
    "collapsed": true
   },
   "outputs": [],
   "source": [
    "rf_best = rf_best.fit(X_train_[model_cols], y_train_['lapsed_next_period'])\n",
    "et_best = et_best.fit(X_train_[model_cols], y_train_['lapsed_next_period'])\n",
    "ada_best = ada_best.fit(X_train_[model_cols], y_train_['lapsed_next_period'])\n",
    "gb_best = gb_best.fit(X_train_[model_cols], y_train_['lapsed_next_period'])\n",
    "svc_best = svc_best.fit(X_train_[model_cols], y_train_['lapsed_next_period'])\n",
    "log_best = log_best.fit(X_train_[model_cols], y_train_['lapsed_next_period'])\n",
    "xgbm_best = xgbm_best.fit(X_train_[model_cols], y_train_['lapsed_next_period'])"
   ]
  },
  {
   "cell_type": "code",
   "execution_count": 85,
   "metadata": {},
   "outputs": [],
   "source": [
    "rf_best_score = right_classification(y_pred=rf_best.predict(X_train_[model_cols]),\n",
    "                                     y_true=y_train_['lapsed_next_period'])\n",
    "et_best_score = right_classification(y_pred=et_best.predict(X_train_[model_cols]),\n",
    "                                     y_true=y_train_['lapsed_next_period'])\n",
    "ada_best_score = right_classification(y_pred=ada_best.predict(X_train_[model_cols]),\n",
    "                                     y_true=y_train_['lapsed_next_period'])\n",
    "gb_best_score = right_classification(y_pred=gb_best.predict(X_train_[model_cols]),\n",
    "                                     y_true=y_train_['lapsed_next_period'])\n",
    "svc_best_score = right_classification(y_pred=svc_best.predict(X_train_[model_cols]),\n",
    "                                     y_true=y_train_['lapsed_next_period'])\n",
    "log_best_score = right_classification(y_pred=log_best.predict(X_train_[model_cols]),\n",
    "                                     y_true=y_train_['lapsed_next_period'])\n",
    "xgbm_best_score = right_classification(y_pred=xgbm_best.predict(X_train_[model_cols]),\n",
    "                                     y_true=y_train_['lapsed_next_period'])"
   ]
  },
  {
   "cell_type": "code",
   "execution_count": 87,
   "metadata": {
    "collapsed": true
   },
   "outputs": [],
   "source": [
    "rf_best_score_test = right_classification(y_pred=rf_best.predict(X_test[model_cols]),\n",
    "                                     y_true=y_test['lapsed_next_period'])\n",
    "et_best_score_test = right_classification(y_pred=et_best.predict(X_test[model_cols]),\n",
    "                                     y_true=y_test['lapsed_next_period'])\n",
    "ada_best_score_test = right_classification(y_pred=ada_best.predict(X_test[model_cols]),\n",
    "                                     y_true=y_test['lapsed_next_period'])\n",
    "gb_best_score_test = right_classification(y_pred=gb_best.predict(X_test[model_cols]),\n",
    "                                     y_true=y_test['lapsed_next_period'])\n",
    "svc_best_score_test = right_classification(y_pred=svc_best.predict(X_test[model_cols]),\n",
    "                                     y_true=y_test['lapsed_next_period'])\n",
    "log_best_score_test = right_classification(y_pred=log_best.predict(X_test[model_cols]),\n",
    "                                     y_true=y_test['lapsed_next_period'])\n",
    "xgbm_best_score_test = right_classification(y_pred=xgbm_best.predict(X_test[model_cols]),\n",
    "                                     y_true=y_test['lapsed_next_period'])"
   ]
  },
  {
   "cell_type": "code",
   "execution_count": 89,
   "metadata": {},
   "outputs": [
    {
     "data": {
      "text/html": [
       "<div>\n",
       "<style>\n",
       "    .dataframe thead tr:only-child th {\n",
       "        text-align: right;\n",
       "    }\n",
       "\n",
       "    .dataframe thead th {\n",
       "        text-align: left;\n",
       "    }\n",
       "\n",
       "    .dataframe tbody tr th {\n",
       "        vertical-align: top;\n",
       "    }\n",
       "</style>\n",
       "<table border=\"1\" class=\"dataframe\">\n",
       "  <thead>\n",
       "    <tr style=\"text-align: right;\">\n",
       "      <th></th>\n",
       "      <th>Model</th>\n",
       "      <th>Score on test</th>\n",
       "      <th>Score on training</th>\n",
       "    </tr>\n",
       "  </thead>\n",
       "  <tbody>\n",
       "    <tr>\n",
       "      <th>4</th>\n",
       "      <td>Support Vector Machine</td>\n",
       "      <td>0.865854</td>\n",
       "      <td>0.888889</td>\n",
       "    </tr>\n",
       "    <tr>\n",
       "      <th>3</th>\n",
       "      <td>Gradient Boosting</td>\n",
       "      <td>0.725610</td>\n",
       "      <td>0.820396</td>\n",
       "    </tr>\n",
       "    <tr>\n",
       "      <th>6</th>\n",
       "      <td>XGBoost</td>\n",
       "      <td>0.707317</td>\n",
       "      <td>0.808219</td>\n",
       "    </tr>\n",
       "    <tr>\n",
       "      <th>1</th>\n",
       "      <td>Extratrees</td>\n",
       "      <td>0.713415</td>\n",
       "      <td>0.768645</td>\n",
       "    </tr>\n",
       "    <tr>\n",
       "      <th>0</th>\n",
       "      <td>Random Forests</td>\n",
       "      <td>0.713415</td>\n",
       "      <td>0.753425</td>\n",
       "    </tr>\n",
       "    <tr>\n",
       "      <th>2</th>\n",
       "      <td>AdaBoosting</td>\n",
       "      <td>0.725610</td>\n",
       "      <td>0.742770</td>\n",
       "    </tr>\n",
       "    <tr>\n",
       "      <th>5</th>\n",
       "      <td>Logistic Regression</td>\n",
       "      <td>0.725610</td>\n",
       "      <td>0.738204</td>\n",
       "    </tr>\n",
       "  </tbody>\n",
       "</table>\n",
       "</div>"
      ],
      "text/plain": [
       "                    Model  Score on test  Score on training\n",
       "4  Support Vector Machine       0.865854           0.888889\n",
       "3       Gradient Boosting       0.725610           0.820396\n",
       "6                 XGBoost       0.707317           0.808219\n",
       "1              Extratrees       0.713415           0.768645\n",
       "0          Random Forests       0.713415           0.753425\n",
       "2             AdaBoosting       0.725610           0.742770\n",
       "5     Logistic Regression       0.725610           0.738204"
      ]
     },
     "execution_count": 89,
     "metadata": {},
     "output_type": "execute_result"
    }
   ],
   "source": [
    "models = pd.DataFrame({\n",
    "    'Model': ['Random Forests', 'Extratrees', 'AdaBoosting', \n",
    "              'Gradient Boosting', 'Support Vector Machine', \n",
    "              'Logistic Regression','XGBoost'],\n",
    "    'Score on training': [rf_best_score, et_best_score, ada_best_score, gb_best_score, \n",
    "              svc_best_score, log_best_score, xgbm_best_score],\n",
    "    'Score on test': [rf_best_score_test, et_best_score_test, ada_best_score_test, gb_best_score_test, \n",
    "              svc_best_score_test, log_best_score_test, xgbm_best_score_test]})\n",
    "models.sort_values(by='Score on training', ascending=False)"
   ]
  },
  {
   "cell_type": "code",
   "execution_count": 77,
   "metadata": {},
   "outputs": [
    {
     "data": {
      "text/html": [
       "<div>\n",
       "<style>\n",
       "    .dataframe thead tr:only-child th {\n",
       "        text-align: right;\n",
       "    }\n",
       "\n",
       "    .dataframe thead th {\n",
       "        text-align: left;\n",
       "    }\n",
       "\n",
       "    .dataframe tbody tr th {\n",
       "        vertical-align: top;\n",
       "    }\n",
       "</style>\n",
       "<table border=\"1\" class=\"dataframe\">\n",
       "  <thead>\n",
       "    <tr style=\"text-align: right;\">\n",
       "      <th></th>\n",
       "      <th>Feature</th>\n",
       "      <th>RF</th>\n",
       "      <th>Extra</th>\n",
       "      <th>Ada</th>\n",
       "      <th>GB</th>\n",
       "      <th>XGB</th>\n",
       "      <th>Median</th>\n",
       "    </tr>\n",
       "  </thead>\n",
       "  <tbody>\n",
       "    <tr>\n",
       "      <th>1</th>\n",
       "      <td>order_id</td>\n",
       "      <td>0.370429</td>\n",
       "      <td>0.365752</td>\n",
       "      <td>0.280</td>\n",
       "      <td>0.132363</td>\n",
       "      <td>0.139013</td>\n",
       "      <td>0.280000</td>\n",
       "    </tr>\n",
       "    <tr>\n",
       "      <th>2</th>\n",
       "      <td>net_spend</td>\n",
       "      <td>0.230516</td>\n",
       "      <td>0.191806</td>\n",
       "      <td>0.080</td>\n",
       "      <td>0.136212</td>\n",
       "      <td>0.141846</td>\n",
       "      <td>0.141846</td>\n",
       "    </tr>\n",
       "    <tr>\n",
       "      <th>6</th>\n",
       "      <td>gs_per_order</td>\n",
       "      <td>0.062132</td>\n",
       "      <td>0.035686</td>\n",
       "      <td>0.145</td>\n",
       "      <td>0.139623</td>\n",
       "      <td>0.139485</td>\n",
       "      <td>0.139485</td>\n",
       "    </tr>\n",
       "    <tr>\n",
       "      <th>3</th>\n",
       "      <td>quote_spend_returned</td>\n",
       "      <td>0.117549</td>\n",
       "      <td>0.084304</td>\n",
       "      <td>0.125</td>\n",
       "      <td>0.112191</td>\n",
       "      <td>0.123200</td>\n",
       "      <td>0.117549</td>\n",
       "    </tr>\n",
       "    <tr>\n",
       "      <th>0</th>\n",
       "      <td>var4</td>\n",
       "      <td>0.059745</td>\n",
       "      <td>0.103787</td>\n",
       "      <td>0.165</td>\n",
       "      <td>0.113569</td>\n",
       "      <td>0.082606</td>\n",
       "      <td>0.103787</td>\n",
       "    </tr>\n",
       "    <tr>\n",
       "      <th>7</th>\n",
       "      <td>ib_per_order</td>\n",
       "      <td>0.042541</td>\n",
       "      <td>0.021898</td>\n",
       "      <td>0.025</td>\n",
       "      <td>0.113463</td>\n",
       "      <td>0.106915</td>\n",
       "      <td>0.042541</td>\n",
       "    </tr>\n",
       "    <tr>\n",
       "      <th>8</th>\n",
       "      <td>ns_per_ib</td>\n",
       "      <td>0.036313</td>\n",
       "      <td>0.020351</td>\n",
       "      <td>0.020</td>\n",
       "      <td>0.116611</td>\n",
       "      <td>0.120132</td>\n",
       "      <td>0.036313</td>\n",
       "    </tr>\n",
       "    <tr>\n",
       "      <th>4</th>\n",
       "      <td>quote_var1</td>\n",
       "      <td>0.023801</td>\n",
       "      <td>0.034588</td>\n",
       "      <td>0.100</td>\n",
       "      <td>0.040315</td>\n",
       "      <td>0.020297</td>\n",
       "      <td>0.034588</td>\n",
       "    </tr>\n",
       "    <tr>\n",
       "      <th>5</th>\n",
       "      <td>quote_var2</td>\n",
       "      <td>0.027762</td>\n",
       "      <td>0.020499</td>\n",
       "      <td>0.000</td>\n",
       "      <td>0.055828</td>\n",
       "      <td>0.079065</td>\n",
       "      <td>0.027762</td>\n",
       "    </tr>\n",
       "    <tr>\n",
       "      <th>13</th>\n",
       "      <td>var5_0.0</td>\n",
       "      <td>0.007923</td>\n",
       "      <td>0.031661</td>\n",
       "      <td>0.030</td>\n",
       "      <td>0.006191</td>\n",
       "      <td>0.018881</td>\n",
       "      <td>0.018881</td>\n",
       "    </tr>\n",
       "    <tr>\n",
       "      <th>14</th>\n",
       "      <td>var5_1.0</td>\n",
       "      <td>0.011694</td>\n",
       "      <td>0.029793</td>\n",
       "      <td>0.030</td>\n",
       "      <td>0.006900</td>\n",
       "      <td>0.003068</td>\n",
       "      <td>0.011694</td>\n",
       "    </tr>\n",
       "    <tr>\n",
       "      <th>11</th>\n",
       "      <td>var3_2.0</td>\n",
       "      <td>0.001359</td>\n",
       "      <td>0.009327</td>\n",
       "      <td>0.000</td>\n",
       "      <td>0.005310</td>\n",
       "      <td>0.005428</td>\n",
       "      <td>0.005310</td>\n",
       "    </tr>\n",
       "    <tr>\n",
       "      <th>10</th>\n",
       "      <td>var3_1.0</td>\n",
       "      <td>0.002656</td>\n",
       "      <td>0.012781</td>\n",
       "      <td>0.000</td>\n",
       "      <td>0.009031</td>\n",
       "      <td>0.001888</td>\n",
       "      <td>0.002656</td>\n",
       "    </tr>\n",
       "    <tr>\n",
       "      <th>15</th>\n",
       "      <td>var6_0.0</td>\n",
       "      <td>0.001926</td>\n",
       "      <td>0.012087</td>\n",
       "      <td>0.000</td>\n",
       "      <td>0.002410</td>\n",
       "      <td>0.009441</td>\n",
       "      <td>0.002410</td>\n",
       "    </tr>\n",
       "    <tr>\n",
       "      <th>12</th>\n",
       "      <td>var3_3.0</td>\n",
       "      <td>0.002138</td>\n",
       "      <td>0.013660</td>\n",
       "      <td>0.000</td>\n",
       "      <td>0.000000</td>\n",
       "      <td>0.006608</td>\n",
       "      <td>0.002138</td>\n",
       "    </tr>\n",
       "    <tr>\n",
       "      <th>16</th>\n",
       "      <td>var6_1.0</td>\n",
       "      <td>0.001515</td>\n",
       "      <td>0.011710</td>\n",
       "      <td>0.000</td>\n",
       "      <td>0.009982</td>\n",
       "      <td>0.002124</td>\n",
       "      <td>0.002124</td>\n",
       "    </tr>\n",
       "    <tr>\n",
       "      <th>9</th>\n",
       "      <td>var3_0.0</td>\n",
       "      <td>0.000000</td>\n",
       "      <td>0.000310</td>\n",
       "      <td>0.000</td>\n",
       "      <td>0.000000</td>\n",
       "      <td>0.000000</td>\n",
       "      <td>0.000000</td>\n",
       "    </tr>\n",
       "  </tbody>\n",
       "</table>\n",
       "</div>"
      ],
      "text/plain": [
       "                 Feature        RF     Extra    Ada        GB       XGB  \\\n",
       "1               order_id  0.370429  0.365752  0.280  0.132363  0.139013   \n",
       "2              net_spend  0.230516  0.191806  0.080  0.136212  0.141846   \n",
       "6           gs_per_order  0.062132  0.035686  0.145  0.139623  0.139485   \n",
       "3   quote_spend_returned  0.117549  0.084304  0.125  0.112191  0.123200   \n",
       "0                   var4  0.059745  0.103787  0.165  0.113569  0.082606   \n",
       "7           ib_per_order  0.042541  0.021898  0.025  0.113463  0.106915   \n",
       "8              ns_per_ib  0.036313  0.020351  0.020  0.116611  0.120132   \n",
       "4             quote_var1  0.023801  0.034588  0.100  0.040315  0.020297   \n",
       "5             quote_var2  0.027762  0.020499  0.000  0.055828  0.079065   \n",
       "13              var5_0.0  0.007923  0.031661  0.030  0.006191  0.018881   \n",
       "14              var5_1.0  0.011694  0.029793  0.030  0.006900  0.003068   \n",
       "11              var3_2.0  0.001359  0.009327  0.000  0.005310  0.005428   \n",
       "10              var3_1.0  0.002656  0.012781  0.000  0.009031  0.001888   \n",
       "15              var6_0.0  0.001926  0.012087  0.000  0.002410  0.009441   \n",
       "12              var3_3.0  0.002138  0.013660  0.000  0.000000  0.006608   \n",
       "16              var6_1.0  0.001515  0.011710  0.000  0.009982  0.002124   \n",
       "9               var3_0.0  0.000000  0.000310  0.000  0.000000  0.000000   \n",
       "\n",
       "      Median  \n",
       "1   0.280000  \n",
       "2   0.141846  \n",
       "6   0.139485  \n",
       "3   0.117549  \n",
       "0   0.103787  \n",
       "7   0.042541  \n",
       "8   0.036313  \n",
       "4   0.034588  \n",
       "5   0.027762  \n",
       "13  0.018881  \n",
       "14  0.011694  \n",
       "11  0.005310  \n",
       "10  0.002656  \n",
       "15  0.002410  \n",
       "12  0.002138  \n",
       "16  0.002124  \n",
       "9   0.000000  "
      ]
     },
     "execution_count": 77,
     "metadata": {},
     "output_type": "execute_result"
    }
   ],
   "source": [
    "summary = pd.DataFrame(list(zip(X_train_[model_cols].columns,\n",
    "    np.transpose(rf_best.feature_importances_),\n",
    "    np.transpose(et_best.feature_importances_),\n",
    "    np.transpose(ada_best.feature_importances_),\n",
    "    np.transpose(gb_best.feature_importances_),\n",
    "    np.transpose(xgbm_best.feature_importances_),\n",
    "    )), columns=['Feature','RF','Extra','Ada','GB','XGB'])\n",
    "  \n",
    "summary['Median'] = summary.median(1)\n",
    "summary.sort_values('Median', ascending=False)"
   ]
  },
  {
   "cell_type": "markdown",
   "metadata": {},
   "source": [
    "### Ensembling"
   ]
  },
  {
   "cell_type": "code",
   "execution_count": 93,
   "metadata": {},
   "outputs": [
    {
     "data": {
      "image/png": "[encoded data removed]",
      "text/plain": [
       "<matplotlib.figure.Figure at 0x7f9c210ec438>"
      ]
     },
     "metadata": {},
     "output_type": "display_data"
    }
   ],
   "source": [
    "# correlation between model predictions on training data\n",
    "base_predictions_train = pd.DataFrame( {'RandomForest': rf_best.predict(X_train_[model_cols]),\n",
    "     'ExtraTrees': et_best.predict(X_train_[model_cols]),\n",
    "     'AdaBoost': ada_best.predict(X_train_[model_cols]),\n",
    "     'SVM' : svc_best.predict(X_train_[model_cols]),\n",
    "     'GradientBoost': gb_best.predict(X_train_[model_cols]),\n",
    "     'Logistic Regression': log_best.predict(X_train_[model_cols]),\n",
    "     'XGBoost': xgbm_best.predict(X_train_[model_cols])\n",
    "    })\n",
    "\n",
    "plt.figure(figsize=(12,10))\n",
    "foo = sns.heatmap(base_predictions_train.corr(), vmax=1.0, square=True, annot=True)"
   ]
  },
  {
   "cell_type": "code",
   "execution_count": 95,
   "metadata": {},
   "outputs": [
    {
     "data": {
      "text/plain": [
       "VotingClassifier(estimators=[('rf', RandomForestClassifier(bootstrap=True, class_weight=None, criterion='gini',\n",
       "            max_depth=4, max_features='sqrt', max_leaf_nodes=None,\n",
       "            min_impurity_decrease=0.0, min_impurity_split=None,\n",
       "            min_samples_leaf=5, min_samples_split=2,\n",
       "            min_weigh...nalty='l2', random_state=0, solver='liblinear', tol=0.0001,\n",
       "          verbose=0, warm_start=False))],\n",
       "         flatten_transform=None, n_jobs=1, voting='hard',\n",
       "         weights=[1, 1, 1, 2, 2, 3, 1])"
      ]
     },
     "execution_count": 95,
     "metadata": {},
     "output_type": "execute_result"
    }
   ],
   "source": [
    "# Voting classifier\n",
    "clf_vote = VotingClassifier(\n",
    "    estimators=[\n",
    "        #('tree', clf_tree),\n",
    "        ('rf', rf_best),\n",
    "        ('et', et_best),\n",
    "        ('ada', ada_best),\n",
    "        ('gb', gb_best),\n",
    "        ('xgb', xgbm_best),\n",
    "        ('svm', svc_best),\n",
    "        ('logistic', log_best)\n",
    "        ],\n",
    "    weights=[1,1,1,2,2,3,1],\n",
    "    voting='hard')\n",
    "clf_vote.fit(X_train_[model_cols], y_train_['lapsed_next_period'])"
   ]
  },
  {
   "cell_type": "code",
   "execution_count": 97,
   "metadata": {},
   "outputs": [
    {
     "data": {
      "text/plain": [
       "0.78995433789954339"
      ]
     },
     "execution_count": 97,
     "metadata": {},
     "output_type": "execute_result"
    }
   ],
   "source": [
    "clf_vote_score_train = right_classification(y_pred=clf_vote.predict(X_train_[model_cols]),\n",
    "                                     y_true=y_train_['lapsed_next_period'])\n",
    "clf_vote_score_train"
   ]
  },
  {
   "cell_type": "code",
   "execution_count": 98,
   "metadata": {},
   "outputs": [
    {
     "data": {
      "text/plain": [
       "0.74390243902439024"
      ]
     },
     "execution_count": 98,
     "metadata": {},
     "output_type": "execute_result"
    }
   ],
   "source": [
    "clf_vote_score_test = right_classification(y_pred=clf_vote.predict(X_test[model_cols]),\n",
    "                                     y_true=y_test['lapsed_next_period'])\n",
    "clf_vote_score_test"
   ]
  },
  {
   "cell_type": "code",
   "execution_count": 101,
   "metadata": {},
   "outputs": [
    {
     "name": "stdout",
     "output_type": "stream",
     "text": [
      "[[2042  933]\n",
      " [  42  122]]\n"
     ]
    }
   ],
   "source": [
    "print(confusion_matrix(y_pred=clf_vote.predict(X_test[model_cols]),\n",
    "                                     y_true=y_test['lapsed_next_period']))"
   ]
  },
  {
   "cell_type": "code",
   "execution_count": 102,
   "metadata": {},
   "outputs": [
    {
     "name": "stdout",
     "output_type": "stream",
     "text": [
      "[[1167 1808]\n",
      " [  22  142]]\n"
     ]
    }
   ],
   "source": [
    "print(confusion_matrix(y_test['lapsed_next_period'], svc_best.predict(X_test[model_cols])))"
   ]
  }
 ],
 "metadata": {
  "kernelspec": {
   "display_name": "Python 3",
   "language": "python",
   "name": "python3"
  },
  "language_info": {
   "codemirror_mode": {
    "name": "ipython",
    "version": 3
   },
   "file_extension": ".py",
   "mimetype": "text/x-python",
   "name": "python",
   "nbconvert_exporter": "python",
   "pygments_lexer": "ipython3",
   "version": "3.4.5"
  }
 },
 "nbformat": 4,
 "nbformat_minor": 2
}
